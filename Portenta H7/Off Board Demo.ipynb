{
 "cells": [
  {
   "cell_type": "markdown",
   "metadata": {},
   "source": [
    "# Chicken Scratch Off-Board Demo\n",
    "The purpose of this off board demo is to show the process by which the on-board application functions with visuals of each step"
   ]
  },
  {
   "cell_type": "code",
   "execution_count": 1,
   "metadata": {},
   "outputs": [],
   "source": [
    "import time\n",
    "import math\n",
    "from PIL import Image, ImageDraw, ImageFilter\n",
    "import tensorflow as tf\n",
    "import numpy as np"
   ]
  },
  {
   "cell_type": "markdown",
   "metadata": {},
   "source": [
    "### Loading the models"
   ]
  },
  {
   "cell_type": "code",
   "execution_count": 2,
   "metadata": {},
   "outputs": [],
   "source": [
    "character_model = tf.lite.Interpreter(model_path='./models/CharacterRecognition.tflite')\n",
    "character_model.allocate_tensors()"
   ]
  },
  {
   "cell_type": "markdown",
   "metadata": {},
   "source": [
    "### Global Constants"
   ]
  },
  {
   "cell_type": "code",
   "execution_count": 3,
   "metadata": {},
   "outputs": [],
   "source": [
    "cellCountX = 15\n",
    "cellCountY = 7\n",
    "charWidth = 13\n",
    "charHeight = 18\n",
    "\n",
    "character_classes = {\n",
    "    0: \"a\",\n",
    "    1: \"b\",\n",
    "    2: \"c\",\n",
    "    3: \"d\",\n",
    "    4: \"e\",\n",
    "    5: \"f\",\n",
    "    6: \"g\",\n",
    "    7: \"h\",\n",
    "    8: \"i\",\n",
    "    9: \"j\",\n",
    "    10: \"k\",\n",
    "    11: \"l\",\n",
    "    12: \"m\",\n",
    "    13: \"n\",\n",
    "    14: \"o\",\n",
    "    15: \"p\",\n",
    "    16: \"q\",\n",
    "    17: \"r\",\n",
    "    18: \"s\",\n",
    "    19: \"t\",\n",
    "    20: \"u\",\n",
    "    21: \"v\",\n",
    "    22: \"w\",\n",
    "    23: \"x\",\n",
    "    24: \"y\",\n",
    "    25: \"z\",\n",
    "    26: \"A\",\n",
    "    27: \"B\",\n",
    "    28: \"C\",\n",
    "    29: \"D\",\n",
    "    30: \"E\",\n",
    "    31: \"F\",\n",
    "    32: \"G\",\n",
    "    33: \"H\",\n",
    "    34: \"I\",\n",
    "    35: \"J\",\n",
    "    36: \"K\",\n",
    "    37: \"L\",\n",
    "    38: \"M\",\n",
    "    39: \"N\",\n",
    "    40: \"O\",\n",
    "    41: \"P\",\n",
    "    42: \"Q\",\n",
    "    43: \"R\",\n",
    "    44: \"S\",\n",
    "    45: \"T\",\n",
    "    46: \"U\",\n",
    "    47: \"V\",\n",
    "    48: \"W\",\n",
    "    49: \"X\",\n",
    "    50: \"Y\",\n",
    "    51: \"Z\",\n",
    "    52: \"1\",\n",
    "    53: \"2\",\n",
    "    54: \"3\",\n",
    "    55: \"4\",\n",
    "    56: \"5\",\n",
    "    57: \"6\",\n",
    "    58: \"7\",\n",
    "    59: \"8\",\n",
    "    60: \"9\",\n",
    "    61: \"0\",\n",
    "    62: \"!\",\n",
    "    63: \"@\",\n",
    "    64: \"#\",\n",
    "    65: \"$\",\n",
    "    66: \"%\",\n",
    "    67: \"^\",\n",
    "    68: \"&\",\n",
    "    69: \"*\",\n",
    "    70: \"(\",\n",
    "    71: \")\",\n",
    "    72: \"-\",\n",
    "    73: \"_\",\n",
    "    74: \"+\",\n",
    "    75: \"=\",\n",
    "    76: \"{\",\n",
    "    77: \"}\",\n",
    "    78: \"[\",\n",
    "    79: \"]\",\n",
    "    80: \"|\",\n",
    "    81: \"\\\\\",\n",
    "    82: \":\",\n",
    "    83: \";\",\n",
    "    84: \"\\\"\",\n",
    "    85: \"'\",\n",
    "    86: \"<\",\n",
    "    87: \">\",\n",
    "    88: \",\",\n",
    "    89: \".\",\n",
    "    90: \"/\",\n",
    "    91: \"?\",\n",
    "    92: \"~\",\n",
    "    93: \"`\",\n",
    "    94: \" \"\n",
    "}"
   ]
  },
  {
   "cell_type": "markdown",
   "metadata": {},
   "source": [
    "### Vector Math"
   ]
  },
  {
   "cell_type": "code",
   "execution_count": 4,
   "metadata": {},
   "outputs": [],
   "source": [
    "# Subtract v2 from v1\n",
    "def sub(v1, v2):\n",
    "    return (v1[0] - v2[0], v1[1] - v2[1])\n",
    "\n",
    "# Distance between two vectors\n",
    "def distance(v1, v2):\n",
    "    return math.sqrt((v2[0] - v1[0]) * (v2[0] - v1[0]) + (v2[1] - v1[1]) * (v2[1] - v1[1]))\n",
    "\n",
    "#Normalizes a vector\n",
    "def vectorNormalize(v):\n",
    "    length = math.sqrt(v[0] * v[0] + v[1] * v[1])\n",
    "    return (v[0]/length, v[1]/length)\n",
    "\n",
    "#Generates a range of positions along a line traversed by an input vector\n",
    "def vectorRange(xy, v, count, dist):\n",
    "    vals = []\n",
    "    intv = int(dist/count + 0.5)\n",
    "    \n",
    "    if intv < 1:\n",
    "        intv = 1\n",
    "    \n",
    "    for i in range(0, dist, intv):\n",
    "        vals.append((xy[0] + v[0]*i, xy[1] + v[1]*i))\n",
    "    return vals"
   ]
  },
  {
   "cell_type": "markdown",
   "metadata": {},
   "source": [
    "### Debugging Grids"
   ]
  },
  {
   "cell_type": "code",
   "execution_count": 5,
   "metadata": {},
   "outputs": [],
   "source": [
    "# Draw lines on the provided image showing bounds and cell bounds\n",
    "def drawConfigDebug(img, x1, y1, x2, y2, x3, y3, x4, y4, ccx, ccy, lt):\n",
    "    img1 = img.convert(mode=\"RGB\")\n",
    "    r = 4\n",
    "    draw = ImageDraw.Draw(img1)\n",
    "    \n",
    "    draw.ellipse((x1-r, y1-r, x1+r, y1+r), fill = 'red')\n",
    "    draw.ellipse((x2-r, y2-r, x2+r, y2+r), fill = 'red')\n",
    "    draw.ellipse((x3-r, y3-r, x3+r, y3+r), fill = 'red')\n",
    "    draw.ellipse((x4-r, y4-r, x4+r, y4+r), fill = 'red')\n",
    "    \n",
    "    v1 = vectorNormalize((x2-x1, y2-y1)) # Vector from top left to top right\n",
    "    v2 = vectorNormalize((x4-x3, y4-y3)) # Vector from bottom left to bottom right\n",
    "    v3 = vectorNormalize((x3-x1, y3-y1)) # Vector from top left to bottom left\n",
    "    v4 = vectorNormalize((x4-x2, y4-y2)) # Vector from top right to bottom right\n",
    "    \n",
    "    v1set = vectorRange((x1, y1), v1, ccx, int(distance((x1, y1), (x2, y2))))\n",
    "    v2set = vectorRange((x3, y3), v2, ccx, int(distance((x3, y3), (x4, y4))))\n",
    "    for i in range(0, ccx):\n",
    "        draw.line([v1set[i], v2set[i]], fill='green', width=2)\n",
    "        \n",
    "    v3set = vectorRange((x1, y1), v3, ccy, int(distance((x1, y1), (x3, y3))))\n",
    "    v4set = vectorRange((x2, y2), v4, ccy, int(distance((x2, y2), (x4, y4))))\n",
    "    for i in range(0, ccy):\n",
    "        draw.line([v3set[i], v4set[i]], fill='green', width=2)\n",
    "    \n",
    "    draw.line((x1, y1, x2, y2), fill='red', width=3)\n",
    "    draw.line((x2, y2, x4, y4), fill='red', width=2)\n",
    "    draw.line((x1, y1, x3, y3), fill='red', width=2)\n",
    "    draw.line((x3, y3, x4, y4), fill='red', width=2)\n",
    "    \n",
    "    return img1\n",
    "\n",
    "# Draw dots on the corners of each cell\n",
    "def drawCellsDebug(img, cells):\n",
    "    img1 = img.convert(mode=\"RGB\")\n",
    "    draw = ImageDraw.Draw(img1)\n",
    "    rad = 2\n",
    "    for i in range(0, len(cells)):\n",
    "        for j in range(0, len(cells[i])):\n",
    "            corners = cells[i][j]\n",
    "            for c in range(0, len(corners)):\n",
    "                draw.ellipse((corners[c][0]-rad, corners[c][1]-rad, corners[c][0]+rad, corners[c][1]+rad), fill = 'magenta')\n",
    "    \n",
    "    return img1\n",
    "\n",
    "def debugCells(image, x1, y1, x2, y2, x3, y3, x4, y4, cells):\n",
    "    debugImg = drawConfigDebug(image, x1, y1, x2, y2, x3, y3, x4, y4, cellCountX, cellCountY, 4)\n",
    "    debugImg = drawCellsDebug(debugImg, cells)\n",
    "    display(debugImg)"
   ]
  },
  {
   "cell_type": "markdown",
   "metadata": {},
   "source": [
    "### Image Slicing"
   ]
  },
  {
   "cell_type": "code",
   "execution_count": 106,
   "metadata": {},
   "outputs": [],
   "source": [
    "def CalculateCellBounds(x1, y1, x2, y2, x3, y3, x4, y4):\n",
    "\n",
    "    global cellCountX\n",
    "    global cellCountY\n",
    "    \n",
    "    #Create Vectors\n",
    "    v3 = vectorNormalize((x3-x1, y3-y1)) # Vector from top left to bottom left\n",
    "    v4 = vectorNormalize((x4-x2, y4-y2)) # Vector from top right to bottom right\n",
    "\n",
    "    #Create Position Sets\n",
    "    v3set = vectorRange((x1, y1), v3, cellCountY + 1, int(y3-y1+(y3-y1)/cellCountY)) #Set of positions from top left to bottom left\n",
    "    v4set = vectorRange((x2, y2), v4, cellCountY + 1, int(y4-y2+(y4-y2)/cellCountY)) #Set of positions from top right to bottom right\n",
    "\n",
    "    cells = []\n",
    "    for y in range(0, cellCountY):\n",
    "        row = []\n",
    "\n",
    "        v1 = vectorNormalize(sub(v4set[y], v3set[y]))\n",
    "        v2 = vectorNormalize(sub(v4set[y+1], v3set[y+1]))\n",
    "\n",
    "        d1 = distance(v3set[y], v4set[y])\n",
    "        d2 = distance(v3set[y+1], v4set[y+1])\n",
    "\n",
    "        v1set = vectorRange(v3set[y], v1, cellCountX + 1, int(d1 + d1/cellCountX))\n",
    "        v2set = vectorRange(v3set[y + 1], v2, cellCountX + 1, int(d2 + d2/cellCountX))\n",
    "\n",
    "        for x in range(0, cellCountX):\n",
    "            row.append([v1set[x],v1set[x+1],v2set[x],v2set[x+1]])\n",
    "\n",
    "        cells.append(row)\n",
    "        \n",
    "    return cells\n",
    "\n",
    "def SampleCell(rawimage, cell):\n",
    "    global charWidth\n",
    "    global charHeight\n",
    "    \n",
    "    rawimage = rawimage.load()\n",
    "    \n",
    "    cimg = Image.new(mode=\"RGB\", size=(charWidth, charHeight))\n",
    "    \n",
    "    x1, y1 = cell[0][0], cell[0][1] # Top Left Corner\n",
    "    x2, y2 = cell[1][0], cell[1][1] # Top Right Corner\n",
    "    x3, y3 = cell[2][0], cell[2][1] # Bottom Left Corner\n",
    "    x4, y4 = cell[3][0], cell[3][1] # Bottom Right Corner\n",
    "    \n",
    "    #Create Vectors\n",
    "    v3 = vectorNormalize((x3-x1, y3-y1)) # Vector from top left to bottom left\n",
    "    v4 = vectorNormalize((x4-x2, y4-y2)) # Vector from top right to bottom right\n",
    "\n",
    "    #Create Position Sets\n",
    "    v3set = vectorRange((x1, y1), v3, charHeight + 1, int(y3-y1+(y3-y1)/charHeight)) #Set of positions from top left to bottom left\n",
    "    v4set = vectorRange((x2, y2), v4, charHeight + 1, int(y4-y2+(y4-y2)/charHeight)) #Set of positions from top right to bottom right\n",
    "    \n",
    "    averageColor = 0\n",
    "    \n",
    "    for y in range(0, min(len(v3set), charHeight)):\n",
    "        v1 = vectorNormalize(sub(v4set[y], v3set[y]))\n",
    "\n",
    "        d1 = distance(v3set[y], v4set[y])\n",
    "\n",
    "        v1set = vectorRange(v3set[y], v1, charWidth + 1, int(d1 + d1/charWidth))\n",
    "\n",
    "        for x in range(0, min(len(v1set),charWidth)):\n",
    "            px = v1set[x][0]\n",
    "            py = v1set[x][1]\n",
    "            \n",
    "            pixel = rawimage[px + 1,py]\n",
    "            averageColor += pixel[0]\n",
    "            \n",
    "            cimg.putpixel((x, y), pixel)\n",
    "\n",
    "#     cwidth, cheight = cimg.size\n",
    "#     pixCount = cwidth * cheight\n",
    "#     averageColor = averageColor / pixCount\n",
    "    \n",
    "#     rawimage = cimg.load()\n",
    "#     for y in range(0, cheight - 1):\n",
    "#         for x in range(0, cwidth - 1):\n",
    "#             pixel = rawimage[x, y]\n",
    "#             if (pixel[0] < averageColor - (averageColor * 0.1)):\n",
    "#                 pixel = (pixel[0] - int(averageColor / 4), pixel[1] - int(averageColor / 4), pixel[2] - int(averageColor / 4))\n",
    "#             else:\n",
    "#                 pixel = (pixel[0] + int(averageColor / 2), pixel[1] + int(averageColor / 2), pixel[2] + int(averageColor / 2))\n",
    "                \n",
    "#             cimg.putpixel((x, y), pixel)\n",
    "    \n",
    "    return cimg\n",
    "\n",
    "def CutCellImages(img, cells):\n",
    "    characterImages = []\n",
    "    for x in range(0, len(cells)):\n",
    "        for y in range(0, len(cells[x])):\n",
    "            corners = cells[x][y]\n",
    "            characterImages.append(SampleCell(img, corners))\n",
    "    \n",
    "    return characterImages\n",
    "            \n",
    "# Trim edges by drawing white lines around the edges of the image\n",
    "def trimImageEdgeReplacement(img, lineWidth):\n",
    "    width, height = img.size\n",
    "    topLeftCorner = (0, 0)\n",
    "    topRightCorner = (width-1, 0)\n",
    "    bottomLeftCorner = (0, height-1)\n",
    "    bottomRightCorner = (width-1, height-1)\n",
    "    \n",
    "    clone = img.convert(mode=\"RGB\")\n",
    "    draw = ImageDraw.Draw(clone)\n",
    "    #draw.line([topLeftCorner,topRightCorner], fill='gray', width=lineWidth)\n",
    "    #draw.line([topLeftCorner,bottomLeftCorner], fill='gray', width=lineWidth)\n",
    "    #draw.line([topRightCorner,bottomRightCorner], fill='white', width=lineWidth)\n",
    "    #draw.line([bottomLeftCorner,bottomRightCorner], fill='white', width=lineWidth)\n",
    "    \n",
    "    return clone"
   ]
  },
  {
   "cell_type": "markdown",
   "metadata": {},
   "source": [
    "### Core Functions"
   ]
  },
  {
   "cell_type": "code",
   "execution_count": 72,
   "metadata": {},
   "outputs": [],
   "source": [
    "#Run a character through the character recognition model. It will return\n",
    "#an array of predictions. Use ArgMax to determine the class the had the\n",
    "#highest probability. Then map the class index to the actual character.\n",
    "def PredictChar(img):\n",
    "    display(img)\n",
    "    img=np.asarray(img)\n",
    "    img = img / 255\n",
    "    input_details = character_model.get_input_details()\n",
    "    output_details = character_model.get_output_details()\n",
    "\n",
    "    input_shape = input_details[0]['shape']\n",
    "\n",
    "    input_data = np.array([img], dtype=np.float32)\n",
    "    character_model.set_tensor(input_details[0]['index'], input_data)\n",
    "\n",
    "    character_model.invoke()\n",
    "\n",
    "    output_data = character_model.get_tensor(output_details[0]['index'])\n",
    "    got = np.argmax(output_data)\n",
    "    print (\"predicted: \" + character_classes[got])\n",
    "    return character_classes[got]\n",
    "\n",
    "def PredictGrid(img):\n",
    "    #Pass the image into the grid prediction model\n",
    "    #Return the results of the grid prediction model\n",
    "    return\n",
    "\n",
    "#Slice the image up into many sub images using the image slicing techniques\n",
    "#Created for the training data preprocessor\n",
    "#Return an array of images in order from top left to bottom right\n",
    "def SliceImage(img, x1, y1, x2, y2, x3, y3, x4, y4):\n",
    "    cells = CalculateCellBounds(x1, y1, x2, y2, x3, y3, x4, y4)\n",
    "    debugCells(img, x1, y1, x2, y2, x3, y3, x4, y4, cells)\n",
    "    chars = CutCellImages(img, cells)\n",
    "    \n",
    "    #realChars = []\n",
    "    \n",
    "    #for c in chars:\n",
    "    #    realChars.append(trimImageEdgeReplacement(c, 0))\n",
    "        \n",
    "    return chars\n",
    "\n",
    "def DetectChars(chars):\n",
    "    \n",
    "    finalStr = \"\"\n",
    "    \n",
    "    for c in chars:\n",
    "        ch = PredictChar(c)\n",
    "        finalStr += ch\n",
    "    \n",
    "    return finalStr\n",
    "    #Iterate through each character image, running them through the character\n",
    "    #recognition model. Append each returned character to a string\n",
    "    #Recommended: Use the PredictChar helper function above to actually predict\n",
    "    #and map the character.\n",
    "    #return the string"
   ]
  },
  {
   "cell_type": "code",
   "execution_count": 107,
   "metadata": {
    "scrolled": false
   },
   "outputs": [
    {
     "data": {
      "image/png": "[encoded data removed]",
      "text/plain": [
       "<PIL.Image.Image image mode=RGB size=320x240 at 0x1802B604BC8>"
      ]
     },
     "metadata": {},
     "output_type": "display_data"
    },
    {
     "data": {
      "image/png": "[encoded data removed]",
      "text/plain": [
       "<PIL.Image.Image image mode=RGB size=13x18 at 0x1800208CD08>"
      ]
     },
     "metadata": {},
     "output_type": "display_data"
    },
    {
     "name": "stdout",
     "output_type": "stream",
     "text": [
      "predicted: &\n"
     ]
    },
    {
     "data": {
      "image/png": "[encoded data removed]",
      "text/plain": [
       "<PIL.Image.Image image mode=RGB size=13x18 at 0x1802B41F0C8>"
      ]
     },
     "metadata": {},
     "output_type": "display_data"
    },
    {
     "name": "stdout",
     "output_type": "stream",
     "text": [
      "predicted: D\n"
     ]
    },
    {
     "data": {
      "image/png": "[encoded data removed]",
      "text/plain": [
       "<PIL.Image.Image image mode=RGB size=13x18 at 0x1802B436588>"
      ]
     },
     "metadata": {},
     "output_type": "display_data"
    },
    {
     "name": "stdout",
     "output_type": "stream",
     "text": [
      "predicted: E\n"
     ]
    },
    {
     "data": {
      "image/png": "[encoded data removed]",
      "text/plain": [
       "<PIL.Image.Image image mode=RGB size=13x18 at 0x1802B436A88>"
      ]
     },
     "metadata": {},
     "output_type": "display_data"
    },
    {
     "name": "stdout",
     "output_type": "stream",
     "text": [
      "predicted: W\n"
     ]
    },
    {
     "data": {
      "image/png": "[encoded data removed]",
      "text/plain": [
       "<PIL.Image.Image image mode=RGB size=13x18 at 0x1802B436048>"
      ]
     },
     "metadata": {},
     "output_type": "display_data"
    },
    {
     "name": "stdout",
     "output_type": "stream",
     "text": [
      "predicted:  \n"
     ]
    },
    {
     "data": {
      "image/png": "[encoded data removed]",
      "text/plain": [
       "<PIL.Image.Image image mode=RGB size=13x18 at 0x1802B436388>"
      ]
     },
     "metadata": {},
     "output_type": "display_data"
    },
    {
     "name": "stdout",
     "output_type": "stream",
     "text": [
      "predicted: Y\n"
     ]
    },
    {
     "data": {
      "image/png": "[encoded data removed]",
      "text/plain": [
       "<PIL.Image.Image image mode=RGB size=13x18 at 0x1802B81AD48>"
      ]
     },
     "metadata": {},
     "output_type": "display_data"
    },
    {
     "name": "stdout",
     "output_type": "stream",
     "text": [
      "predicted: +\n"
     ]
    },
    {
     "data": {
      "image/png": "[encoded data removed]",
      "text/plain": [
       "<PIL.Image.Image image mode=RGB size=13x18 at 0x1802B81A948>"
      ]
     },
     "metadata": {},
     "output_type": "display_data"
    },
    {
     "name": "stdout",
     "output_type": "stream",
     "text": [
      "predicted: X\n"
     ]
    },
    {
     "data": {
      "image/png": "[encoded data removed]",
      "text/plain": [
       "<PIL.Image.Image image mode=RGB size=13x18 at 0x1802B81A888>"
      ]
     },
     "metadata": {},
     "output_type": "display_data"
    },
    {
     "name": "stdout",
     "output_type": "stream",
     "text": [
      "predicted: *\n"
     ]
    },
    {
     "data": {
      "image/png": "[encoded data removed]",
      "text/plain": [
       "<PIL.Image.Image image mode=RGB size=13x18 at 0x1802B436808>"
      ]
     },
     "metadata": {},
     "output_type": "display_data"
    },
    {
     "name": "stdout",
     "output_type": "stream",
     "text": [
      "predicted: X\n"
     ]
    },
    {
     "data": {
      "image/png": "[encoded data removed]",
      "text/plain": [
       "<PIL.Image.Image image mode=RGB size=13x18 at 0x1802B83B3C8>"
      ]
     },
     "metadata": {},
     "output_type": "display_data"
    },
    {
     "name": "stdout",
     "output_type": "stream",
     "text": [
      "predicted: X\n"
     ]
    },
    {
     "data": {
      "image/png": "[encoded data removed]",
      "text/plain": [
       "<PIL.Image.Image image mode=RGB size=13x18 at 0x1802B83B7C8>"
      ]
     },
     "metadata": {},
     "output_type": "display_data"
    },
    {
     "name": "stdout",
     "output_type": "stream",
     "text": [
      "predicted: !\n"
     ]
    },
    {
     "data": {
      "image/png": "[encoded data removed]",
      "text/plain": [
       "<PIL.Image.Image image mode=RGB size=13x18 at 0x1802B83B2C8>"
      ]
     },
     "metadata": {},
     "output_type": "display_data"
    },
    {
     "name": "stdout",
     "output_type": "stream",
     "text": [
      "predicted: X\n"
     ]
    },
    {
     "data": {
      "image/png": "[encoded data removed]",
      "text/plain": [
       "<PIL.Image.Image image mode=RGB size=13x18 at 0x1802B83BE08>"
      ]
     },
     "metadata": {},
     "output_type": "display_data"
    },
    {
     "name": "stdout",
     "output_type": "stream",
     "text": [
      "predicted: J\n"
     ]
    },
    {
     "data": {
      "image/png": "[encoded data removed]",
      "text/plain": [
       "<PIL.Image.Image image mode=RGB size=13x18 at 0x1802B843788>"
      ]
     },
     "metadata": {},
     "output_type": "display_data"
    },
    {
     "name": "stdout",
     "output_type": "stream",
     "text": [
      "predicted: |\n"
     ]
    },
    {
     "data": {
      "image/png": "[encoded data removed]",
      "text/plain": [
       "<PIL.Image.Image image mode=RGB size=13x18 at 0x1802B843688>"
      ]
     },
     "metadata": {},
     "output_type": "display_data"
    },
    {
     "name": "stdout",
     "output_type": "stream",
     "text": [
      "predicted: Y\n"
     ]
    },
    {
     "data": {
      "image/png": "[encoded data removed]",
      "text/plain": [
       "<PIL.Image.Image image mode=RGB size=13x18 at 0x1802B843108>"
      ]
     },
     "metadata": {},
     "output_type": "display_data"
    },
    {
     "name": "stdout",
     "output_type": "stream",
     "text": [
      "predicted: U\n"
     ]
    },
    {
     "data": {
      "image/png": "[encoded data removed]",
      "text/plain": [
       "<PIL.Image.Image image mode=RGB size=13x18 at 0x1802B843808>"
      ]
     },
     "metadata": {},
     "output_type": "display_data"
    },
    {
     "name": "stdout",
     "output_type": "stream",
     "text": [
      "predicted: X\n"
     ]
    },
    {
     "data": {
      "image/png": "[encoded data removed]",
      "text/plain": [
       "<PIL.Image.Image image mode=RGB size=13x18 at 0x1802B843988>"
      ]
     },
     "metadata": {},
     "output_type": "display_data"
    },
    {
     "name": "stdout",
     "output_type": "stream",
     "text": [
      "predicted: Z\n"
     ]
    },
    {
     "data": {
      "image/png": "[encoded data removed]",
      "text/plain": [
       "<PIL.Image.Image image mode=RGB size=13x18 at 0x1802B843948>"
      ]
     },
     "metadata": {},
     "output_type": "display_data"
    },
    {
     "name": "stdout",
     "output_type": "stream",
     "text": [
      "predicted:  \n"
     ]
    },
    {
     "data": {
      "image/png": "[encoded data removed]",
      "text/plain": [
       "<PIL.Image.Image image mode=RGB size=13x18 at 0x1802B8437C8>"
      ]
     },
     "metadata": {},
     "output_type": "display_data"
    },
    {
     "name": "stdout",
     "output_type": "stream",
     "text": [
      "predicted: ?\n"
     ]
    },
    {
     "data": {
      "image/png": "[encoded data removed]",
      "text/plain": [
       "<PIL.Image.Image image mode=RGB size=13x18 at 0x1802B806EC8>"
      ]
     },
     "metadata": {},
     "output_type": "display_data"
    },
    {
     "name": "stdout",
     "output_type": "stream",
     "text": [
      "predicted: [\n"
     ]
    },
    {
     "data": {
      "image/png": "[encoded data removed]",
      "text/plain": [
       "<PIL.Image.Image image mode=RGB size=13x18 at 0x1802B806C08>"
      ]
     },
     "metadata": {},
     "output_type": "display_data"
    },
    {
     "name": "stdout",
     "output_type": "stream",
     "text": [
      "predicted: X\n"
     ]
    },
    {
     "data": {
      "image/png": "[encoded data removed]",
      "text/plain": [
       "<PIL.Image.Image image mode=RGB size=13x18 at 0x1802B614788>"
      ]
     },
     "metadata": {},
     "output_type": "display_data"
    },
    {
     "name": "stdout",
     "output_type": "stream",
     "text": [
      "predicted: ?\n"
     ]
    },
    {
     "data": {
      "image/png": "[encoded data removed]",
      "text/plain": [
       "<PIL.Image.Image image mode=RGB size=13x18 at 0x1802B614448>"
      ]
     },
     "metadata": {},
     "output_type": "display_data"
    },
    {
     "name": "stdout",
     "output_type": "stream",
     "text": [
      "predicted:  \n"
     ]
    },
    {
     "data": {
      "image/png": "[encoded data removed]",
      "text/plain": [
       "<PIL.Image.Image image mode=RGB size=13x18 at 0x1802B614A48>"
      ]
     },
     "metadata": {},
     "output_type": "display_data"
    },
    {
     "name": "stdout",
     "output_type": "stream",
     "text": [
      "predicted: {\n"
     ]
    },
    {
     "data": {
      "image/png": "[encoded data removed]",
      "text/plain": [
       "<PIL.Image.Image image mode=RGB size=13x18 at 0x1802B614388>"
      ]
     },
     "metadata": {},
     "output_type": "display_data"
    },
    {
     "name": "stdout",
     "output_type": "stream",
     "text": [
      "predicted: X\n"
     ]
    },
    {
     "data": {
      "image/png": "[encoded data removed]",
      "text/plain": [
       "<PIL.Image.Image image mode=RGB size=13x18 at 0x1802B430AC8>"
      ]
     },
     "metadata": {},
     "output_type": "display_data"
    },
    {
     "name": "stdout",
     "output_type": "stream",
     "text": [
      "predicted: X\n"
     ]
    },
    {
     "data": {
      "image/png": "[encoded data removed]",
      "text/plain": [
       "<PIL.Image.Image image mode=RGB size=13x18 at 0x1802B76F1C8>"
      ]
     },
     "metadata": {},
     "output_type": "display_data"
    },
    {
     "name": "stdout",
     "output_type": "stream",
     "text": [
      "predicted: M\n"
     ]
    },
    {
     "data": {
      "image/png": "[encoded data removed]",
      "text/plain": [
       "<PIL.Image.Image image mode=RGB size=13x18 at 0x1802B76F048>"
      ]
     },
     "metadata": {},
     "output_type": "display_data"
    },
    {
     "name": "stdout",
     "output_type": "stream",
     "text": [
      "predicted: V\n"
     ]
    },
    {
     "data": {
      "image/png": "[encoded data removed]",
      "text/plain": [
       "<PIL.Image.Image image mode=RGB size=13x18 at 0x1802B76F408>"
      ]
     },
     "metadata": {},
     "output_type": "display_data"
    },
    {
     "name": "stdout",
     "output_type": "stream",
     "text": [
      "predicted: <\n"
     ]
    },
    {
     "data": {
      "image/png": "[encoded data removed]",
      "text/plain": [
       "<PIL.Image.Image image mode=RGB size=13x18 at 0x1802B76F108>"
      ]
     },
     "metadata": {},
     "output_type": "display_data"
    },
    {
     "name": "stdout",
     "output_type": "stream",
     "text": [
      "predicted: 8\n"
     ]
    },
    {
     "data": {
      "image/png": "[encoded data removed]",
      "text/plain": [
       "<PIL.Image.Image image mode=RGB size=13x18 at 0x1802B4488C8>"
      ]
     },
     "metadata": {},
     "output_type": "display_data"
    },
    {
     "name": "stdout",
     "output_type": "stream",
     "text": [
      "predicted: ?\n"
     ]
    },
    {
     "data": {
      "image/png": "[encoded data removed]",
      "text/plain": [
       "<PIL.Image.Image image mode=RGB size=13x18 at 0x1802B448EC8>"
      ]
     },
     "metadata": {},
     "output_type": "display_data"
    },
    {
     "name": "stdout",
     "output_type": "stream",
     "text": [
      "predicted: W\n"
     ]
    },
    {
     "data": {
      "image/png": "[encoded data removed]",
      "text/plain": [
       "<PIL.Image.Image image mode=RGB size=13x18 at 0x1802B46E108>"
      ]
     },
     "metadata": {},
     "output_type": "display_data"
    },
    {
     "name": "stdout",
     "output_type": "stream",
     "text": [
      "predicted: [\n"
     ]
    },
    {
     "data": {
      "image/png": "[encoded data removed]",
      "text/plain": [
       "<PIL.Image.Image image mode=RGB size=13x18 at 0x1802B46EF88>"
      ]
     },
     "metadata": {},
     "output_type": "display_data"
    },
    {
     "name": "stdout",
     "output_type": "stream",
     "text": [
      "predicted: X\n"
     ]
    },
    {
     "data": {
      "image/png": "[encoded data removed]",
      "text/plain": [
       "<PIL.Image.Image image mode=RGB size=13x18 at 0x1802B7F7588>"
      ]
     },
     "metadata": {},
     "output_type": "display_data"
    },
    {
     "name": "stdout",
     "output_type": "stream",
     "text": [
      "predicted:  \n"
     ]
    },
    {
     "data": {
      "image/png": "[encoded data removed]",
      "text/plain": [
       "<PIL.Image.Image image mode=RGB size=13x18 at 0x1802B7F7188>"
      ]
     },
     "metadata": {},
     "output_type": "display_data"
    },
    {
     "name": "stdout",
     "output_type": "stream",
     "text": [
      "predicted: {\n"
     ]
    },
    {
     "data": {
      "image/png": "[encoded data removed]",
      "text/plain": [
       "<PIL.Image.Image image mode=RGB size=13x18 at 0x1802B7F7D48>"
      ]
     },
     "metadata": {},
     "output_type": "display_data"
    },
    {
     "name": "stdout",
     "output_type": "stream",
     "text": [
      "predicted:  \n"
     ]
    },
    {
     "data": {
      "image/png": "[encoded data removed]",
      "text/plain": [
       "<PIL.Image.Image image mode=RGB size=13x18 at 0x1802B7F7808>"
      ]
     },
     "metadata": {},
     "output_type": "display_data"
    },
    {
     "name": "stdout",
     "output_type": "stream",
     "text": [
      "predicted: Y\n"
     ]
    },
    {
     "data": {
      "image/png": "[encoded data removed]",
      "text/plain": [
       "<PIL.Image.Image image mode=RGB size=13x18 at 0x1802B5FE448>"
      ]
     },
     "metadata": {},
     "output_type": "display_data"
    },
    {
     "name": "stdout",
     "output_type": "stream",
     "text": [
      "predicted: k\n"
     ]
    },
    {
     "data": {
      "image/png": "[encoded data removed]",
      "text/plain": [
       "<PIL.Image.Image image mode=RGB size=13x18 at 0x1802B7B2188>"
      ]
     },
     "metadata": {},
     "output_type": "display_data"
    },
    {
     "name": "stdout",
     "output_type": "stream",
     "text": [
      "predicted: N\n"
     ]
    },
    {
     "data": {
      "image/png": "[encoded data removed]",
      "text/plain": [
       "<PIL.Image.Image image mode=RGB size=13x18 at 0x1802B7B22C8>"
      ]
     },
     "metadata": {},
     "output_type": "display_data"
    },
    {
     "name": "stdout",
     "output_type": "stream",
     "text": [
      "predicted: I\n"
     ]
    },
    {
     "data": {
      "image/png": "[encoded data removed]",
      "text/plain": [
       "<PIL.Image.Image image mode=RGB size=13x18 at 0x1802B7B2B88>"
      ]
     },
     "metadata": {},
     "output_type": "display_data"
    },
    {
     "name": "stdout",
     "output_type": "stream",
     "text": [
      "predicted: X\n"
     ]
    },
    {
     "data": {
      "image/png": "[encoded data removed]",
      "text/plain": [
       "<PIL.Image.Image image mode=RGB size=13x18 at 0x1802B7B2A08>"
      ]
     },
     "metadata": {},
     "output_type": "display_data"
    },
    {
     "name": "stdout",
     "output_type": "stream",
     "text": [
      "predicted: !\n"
     ]
    },
    {
     "data": {
      "image/png": "[encoded data removed]",
      "text/plain": [
       "<PIL.Image.Image image mode=RGB size=13x18 at 0x1802B7B2048>"
      ]
     },
     "metadata": {},
     "output_type": "display_data"
    },
    {
     "name": "stdout",
     "output_type": "stream",
     "text": [
      "predicted: Z\n"
     ]
    },
    {
     "data": {
      "image/png": "[encoded data removed]",
      "text/plain": [
       "<PIL.Image.Image image mode=RGB size=13x18 at 0x1802B7B2D88>"
      ]
     },
     "metadata": {},
     "output_type": "display_data"
    },
    {
     "name": "stdout",
     "output_type": "stream",
     "text": [
      "predicted: 9\n"
     ]
    },
    {
     "data": {
      "image/png": "[encoded data removed]",
      "text/plain": [
       "<PIL.Image.Image image mode=RGB size=13x18 at 0x1802B7B2448>"
      ]
     },
     "metadata": {},
     "output_type": "display_data"
    },
    {
     "name": "stdout",
     "output_type": "stream",
     "text": [
      "predicted: W\n"
     ]
    },
    {
     "data": {
      "image/png": "[encoded data removed]",
      "text/plain": [
       "<PIL.Image.Image image mode=RGB size=13x18 at 0x1802B82A4C8>"
      ]
     },
     "metadata": {},
     "output_type": "display_data"
    },
    {
     "name": "stdout",
     "output_type": "stream",
     "text": [
      "predicted: *\n"
     ]
    },
    {
     "data": {
      "image/png": "[encoded data removed]",
      "text/plain": [
       "<PIL.Image.Image image mode=RGB size=13x18 at 0x1802B82A788>"
      ]
     },
     "metadata": {},
     "output_type": "display_data"
    },
    {
     "name": "stdout",
     "output_type": "stream",
     "text": [
      "predicted: {\n"
     ]
    },
    {
     "data": {
      "image/png": "[encoded data removed]",
      "text/plain": [
       "<PIL.Image.Image image mode=RGB size=13x18 at 0x1802B82AE88>"
      ]
     },
     "metadata": {},
     "output_type": "display_data"
    },
    {
     "name": "stdout",
     "output_type": "stream",
     "text": [
      "predicted: Y\n"
     ]
    },
    {
     "data": {
      "image/png": "[encoded data removed]",
      "text/plain": [
       "<PIL.Image.Image image mode=RGB size=13x18 at 0x1802B82AAC8>"
      ]
     },
     "metadata": {},
     "output_type": "display_data"
    },
    {
     "name": "stdout",
     "output_type": "stream",
     "text": [
      "predicted: @\n"
     ]
    },
    {
     "data": {
      "image/png": "[encoded data removed]",
      "text/plain": [
       "<PIL.Image.Image image mode=RGB size=13x18 at 0x1802B82AFC8>"
      ]
     },
     "metadata": {},
     "output_type": "display_data"
    },
    {
     "name": "stdout",
     "output_type": "stream",
     "text": [
      "predicted:  \n"
     ]
    },
    {
     "data": {
      "image/png": "[encoded data removed]",
      "text/plain": [
       "<PIL.Image.Image image mode=RGB size=13x18 at 0x1802B449508>"
      ]
     },
     "metadata": {},
     "output_type": "display_data"
    },
    {
     "name": "stdout",
     "output_type": "stream",
     "text": [
      "predicted: Y\n"
     ]
    },
    {
     "data": {
      "image/png": "[encoded data removed]",
      "text/plain": [
       "<PIL.Image.Image image mode=RGB size=13x18 at 0x1802B449A88>"
      ]
     },
     "metadata": {},
     "output_type": "display_data"
    },
    {
     "name": "stdout",
     "output_type": "stream",
     "text": [
      "predicted: X\n"
     ]
    },
    {
     "data": {
      "image/png": "[encoded data removed]",
      "text/plain": [
       "<PIL.Image.Image image mode=RGB size=13x18 at 0x1802B7A62C8>"
      ]
     },
     "metadata": {},
     "output_type": "display_data"
    },
    {
     "name": "stdout",
     "output_type": "stream",
     "text": [
      "predicted: X\n"
     ]
    },
    {
     "data": {
      "image/png": "[encoded data removed]",
      "text/plain": [
       "<PIL.Image.Image image mode=RGB size=13x18 at 0x1802B7A6DC8>"
      ]
     },
     "metadata": {},
     "output_type": "display_data"
    },
    {
     "name": "stdout",
     "output_type": "stream",
     "text": [
      "predicted: &\n"
     ]
    },
    {
     "data": {
      "image/png": "[encoded data removed]",
      "text/plain": [
       "<PIL.Image.Image image mode=RGB size=13x18 at 0x1802B7A6FC8>"
      ]
     },
     "metadata": {},
     "output_type": "display_data"
    },
    {
     "name": "stdout",
     "output_type": "stream",
     "text": [
      "predicted: Z\n"
     ]
    },
    {
     "data": {
      "image/png": "[encoded data removed]",
      "text/plain": [
       "<PIL.Image.Image image mode=RGB size=13x18 at 0x1802B7F0B48>"
      ]
     },
     "metadata": {},
     "output_type": "display_data"
    },
    {
     "name": "stdout",
     "output_type": "stream",
     "text": [
      "predicted:  \n"
     ]
    },
    {
     "data": {
      "image/png": "[encoded data removed]",
      "text/plain": [
       "<PIL.Image.Image image mode=RGB size=13x18 at 0x1802B7F0C08>"
      ]
     },
     "metadata": {},
     "output_type": "display_data"
    },
    {
     "name": "stdout",
     "output_type": "stream",
     "text": [
      "predicted: U\n"
     ]
    },
    {
     "data": {
      "image/png": "[encoded data removed]",
      "text/plain": [
       "<PIL.Image.Image image mode=RGB size=13x18 at 0x1802B813848>"
      ]
     },
     "metadata": {},
     "output_type": "display_data"
    },
    {
     "name": "stdout",
     "output_type": "stream",
     "text": [
      "predicted: S\n"
     ]
    },
    {
     "data": {
      "image/png": "[encoded data removed]",
      "text/plain": [
       "<PIL.Image.Image image mode=RGB size=13x18 at 0x1802B8135C8>"
      ]
     },
     "metadata": {},
     "output_type": "display_data"
    },
    {
     "name": "stdout",
     "output_type": "stream",
     "text": [
      "predicted:  \n"
     ]
    },
    {
     "data": {
      "image/png": "[encoded data removed]",
      "text/plain": [
       "<PIL.Image.Image image mode=RGB size=13x18 at 0x1802B8133C8>"
      ]
     },
     "metadata": {},
     "output_type": "display_data"
    },
    {
     "name": "stdout",
     "output_type": "stream",
     "text": [
      "predicted:  \n"
     ]
    },
    {
     "data": {
      "image/png": "[encoded data removed]",
      "text/plain": [
       "<PIL.Image.Image image mode=RGB size=13x18 at 0x1802B813BC8>"
      ]
     },
     "metadata": {},
     "output_type": "display_data"
    },
    {
     "name": "stdout",
     "output_type": "stream",
     "text": [
      "predicted:  \n"
     ]
    },
    {
     "data": {
      "image/png": "[encoded data removed]",
      "text/plain": [
       "<PIL.Image.Image image mode=RGB size=13x18 at 0x1802B813088>"
      ]
     },
     "metadata": {},
     "output_type": "display_data"
    },
    {
     "name": "stdout",
     "output_type": "stream",
     "text": [
      "predicted: X\n"
     ]
    },
    {
     "data": {
      "image/png": "[encoded data removed]",
      "text/plain": [
       "<PIL.Image.Image image mode=RGB size=13x18 at 0x1802B4222C8>"
      ]
     },
     "metadata": {},
     "output_type": "display_data"
    },
    {
     "name": "stdout",
     "output_type": "stream",
     "text": [
      "predicted:  \n"
     ]
    },
    {
     "data": {
      "image/png": "[encoded data removed]",
      "text/plain": [
       "<PIL.Image.Image image mode=RGB size=13x18 at 0x1802B422A08>"
      ]
     },
     "metadata": {},
     "output_type": "display_data"
    },
    {
     "name": "stdout",
     "output_type": "stream",
     "text": [
      "predicted:  \n"
     ]
    },
    {
     "data": {
      "image/png": "[encoded data removed]",
      "text/plain": [
       "<PIL.Image.Image image mode=RGB size=13x18 at 0x1802B433288>"
      ]
     },
     "metadata": {},
     "output_type": "display_data"
    },
    {
     "name": "stdout",
     "output_type": "stream",
     "text": [
      "predicted: {\n"
     ]
    },
    {
     "data": {
      "image/png": "[encoded data removed]",
      "text/plain": [
       "<PIL.Image.Image image mode=RGB size=13x18 at 0x1802B7A1188>"
      ]
     },
     "metadata": {},
     "output_type": "display_data"
    },
    {
     "name": "stdout",
     "output_type": "stream",
     "text": [
      "predicted: J\n"
     ]
    },
    {
     "data": {
      "image/png": "[encoded data removed]",
      "text/plain": [
       "<PIL.Image.Image image mode=RGB size=13x18 at 0x1802B7A1888>"
      ]
     },
     "metadata": {},
     "output_type": "display_data"
    },
    {
     "name": "stdout",
     "output_type": "stream",
     "text": [
      "predicted: {\n"
     ]
    },
    {
     "data": {
      "image/png": "[encoded data removed]",
      "text/plain": [
       "<PIL.Image.Image image mode=RGB size=13x18 at 0x1802B7A1548>"
      ]
     },
     "metadata": {},
     "output_type": "display_data"
    },
    {
     "name": "stdout",
     "output_type": "stream",
     "text": [
      "predicted: 8\n"
     ]
    },
    {
     "data": {
      "image/png": "[encoded data removed]",
      "text/plain": [
       "<PIL.Image.Image image mode=RGB size=13x18 at 0x1802B7A17C8>"
      ]
     },
     "metadata": {},
     "output_type": "display_data"
    },
    {
     "name": "stdout",
     "output_type": "stream",
     "text": [
      "predicted: w\n"
     ]
    },
    {
     "data": {
      "image/png": "[encoded data removed]",
      "text/plain": [
       "<PIL.Image.Image image mode=RGB size=13x18 at 0x1802B7A1988>"
      ]
     },
     "metadata": {},
     "output_type": "display_data"
    },
    {
     "name": "stdout",
     "output_type": "stream",
     "text": [
      "predicted: D\n"
     ]
    },
    {
     "data": {
      "image/png": "[encoded data removed]",
      "text/plain": [
       "<PIL.Image.Image image mode=RGB size=13x18 at 0x1802B7A15C8>"
      ]
     },
     "metadata": {},
     "output_type": "display_data"
    },
    {
     "name": "stdout",
     "output_type": "stream",
     "text": [
      "predicted: i\n"
     ]
    },
    {
     "data": {
      "image/png": "[encoded data removed]",
      "text/plain": [
       "<PIL.Image.Image image mode=RGB size=13x18 at 0x1802B7A1C08>"
      ]
     },
     "metadata": {},
     "output_type": "display_data"
    },
    {
     "name": "stdout",
     "output_type": "stream",
     "text": [
      "predicted: (\n"
     ]
    },
    {
     "data": {
      "image/png": "[encoded data removed]",
      "text/plain": [
       "<PIL.Image.Image image mode=RGB size=13x18 at 0x1802B7A1A48>"
      ]
     },
     "metadata": {},
     "output_type": "display_data"
    },
    {
     "name": "stdout",
     "output_type": "stream",
     "text": [
      "predicted: Q\n"
     ]
    },
    {
     "data": {
      "image/png": "[encoded data removed]",
      "text/plain": [
       "<PIL.Image.Image image mode=RGB size=13x18 at 0x1802B7A1B88>"
      ]
     },
     "metadata": {},
     "output_type": "display_data"
    },
    {
     "name": "stdout",
     "output_type": "stream",
     "text": [
      "predicted: U\n"
     ]
    },
    {
     "data": {
      "image/png": "[encoded data removed]",
      "text/plain": [
       "<PIL.Image.Image image mode=RGB size=13x18 at 0x1802B7A1248>"
      ]
     },
     "metadata": {},
     "output_type": "display_data"
    },
    {
     "name": "stdout",
     "output_type": "stream",
     "text": [
      "predicted:  \n"
     ]
    },
    {
     "data": {
      "image/png": "[encoded data removed]",
      "text/plain": [
       "<PIL.Image.Image image mode=RGB size=13x18 at 0x1802B7A1D08>"
      ]
     },
     "metadata": {},
     "output_type": "display_data"
    },
    {
     "name": "stdout",
     "output_type": "stream",
     "text": [
      "predicted:  \n"
     ]
    },
    {
     "data": {
      "image/png": "[encoded data removed]",
      "text/plain": [
       "<PIL.Image.Image image mode=RGB size=13x18 at 0x1802B7A1408>"
      ]
     },
     "metadata": {},
     "output_type": "display_data"
    },
    {
     "name": "stdout",
     "output_type": "stream",
     "text": [
      "predicted:  \n"
     ]
    },
    {
     "data": {
      "image/png": "[encoded data removed]",
      "text/plain": [
       "<PIL.Image.Image image mode=RGB size=13x18 at 0x1802B7A1FC8>"
      ]
     },
     "metadata": {},
     "output_type": "display_data"
    },
    {
     "name": "stdout",
     "output_type": "stream",
     "text": [
      "predicted:  \n"
     ]
    },
    {
     "data": {
      "image/png": "[encoded data removed]",
      "text/plain": [
       "<PIL.Image.Image image mode=RGB size=13x18 at 0x1802B7A1688>"
      ]
     },
     "metadata": {},
     "output_type": "display_data"
    },
    {
     "name": "stdout",
     "output_type": "stream",
     "text": [
      "predicted:  \n"
     ]
    },
    {
     "data": {
      "image/png": "[encoded data removed]",
      "text/plain": [
       "<PIL.Image.Image image mode=RGB size=13x18 at 0x1802B7A1F08>"
      ]
     },
     "metadata": {},
     "output_type": "display_data"
    },
    {
     "name": "stdout",
     "output_type": "stream",
     "text": [
      "predicted: T\n"
     ]
    },
    {
     "data": {
      "image/png": "[encoded data removed]",
      "text/plain": [
       "<PIL.Image.Image image mode=RGB size=13x18 at 0x1802B7A1108>"
      ]
     },
     "metadata": {},
     "output_type": "display_data"
    },
    {
     "name": "stdout",
     "output_type": "stream",
     "text": [
      "predicted: S\n"
     ]
    },
    {
     "data": {
      "image/png": "[encoded data removed]",
      "text/plain": [
       "<PIL.Image.Image image mode=RGB size=13x18 at 0x1802B7A1288>"
      ]
     },
     "metadata": {},
     "output_type": "display_data"
    },
    {
     "name": "stdout",
     "output_type": "stream",
     "text": [
      "predicted: U\n"
     ]
    },
    {
     "data": {
      "image/png": "[encoded data removed]",
      "text/plain": [
       "<PIL.Image.Image image mode=RGB size=13x18 at 0x1802B7A1D88>"
      ]
     },
     "metadata": {},
     "output_type": "display_data"
    },
    {
     "name": "stdout",
     "output_type": "stream",
     "text": [
      "predicted: S\n"
     ]
    },
    {
     "data": {
      "image/png": "[encoded data removed]",
      "text/plain": [
       "<PIL.Image.Image image mode=RGB size=13x18 at 0x1802B7A1948>"
      ]
     },
     "metadata": {},
     "output_type": "display_data"
    },
    {
     "name": "stdout",
     "output_type": "stream",
     "text": [
      "predicted: 3\n"
     ]
    },
    {
     "data": {
      "image/png": "[encoded data removed]",
      "text/plain": [
       "<PIL.Image.Image image mode=RGB size=13x18 at 0x1802B7A1908>"
      ]
     },
     "metadata": {},
     "output_type": "display_data"
    },
    {
     "name": "stdout",
     "output_type": "stream",
     "text": [
      "predicted: i\n"
     ]
    },
    {
     "data": {
      "image/png": "[encoded data removed]",
      "text/plain": [
       "<PIL.Image.Image image mode=RGB size=13x18 at 0x1802B7A18C8>"
      ]
     },
     "metadata": {},
     "output_type": "display_data"
    },
    {
     "name": "stdout",
     "output_type": "stream",
     "text": [
      "predicted: i\n"
     ]
    },
    {
     "data": {
      "image/png": "[encoded data removed]",
      "text/plain": [
       "<PIL.Image.Image image mode=RGB size=13x18 at 0x1802B7A1E48>"
      ]
     },
     "metadata": {},
     "output_type": "display_data"
    },
    {
     "name": "stdout",
     "output_type": "stream",
     "text": [
      "predicted: 1\n"
     ]
    },
    {
     "data": {
      "image/png": "[encoded data removed]",
      "text/plain": [
       "<PIL.Image.Image image mode=RGB size=13x18 at 0x1802B7A1448>"
      ]
     },
     "metadata": {},
     "output_type": "display_data"
    },
    {
     "name": "stdout",
     "output_type": "stream",
     "text": [
      "predicted: R\n"
     ]
    },
    {
     "data": {
      "image/png": "[encoded data removed]",
      "text/plain": [
       "<PIL.Image.Image image mode=RGB size=13x18 at 0x1802B7A13C8>"
      ]
     },
     "metadata": {},
     "output_type": "display_data"
    },
    {
     "name": "stdout",
     "output_type": "stream",
     "text": [
      "predicted: R\n"
     ]
    },
    {
     "data": {
      "image/png": "[encoded data removed]",
      "text/plain": [
       "<PIL.Image.Image image mode=RGB size=13x18 at 0x1802B7A10C8>"
      ]
     },
     "metadata": {},
     "output_type": "display_data"
    },
    {
     "name": "stdout",
     "output_type": "stream",
     "text": [
      "predicted:  \n"
     ]
    },
    {
     "data": {
      "image/png": "[encoded data removed]",
      "text/plain": [
       "<PIL.Image.Image image mode=RGB size=13x18 at 0x1802B7A1708>"
      ]
     },
     "metadata": {},
     "output_type": "display_data"
    },
    {
     "name": "stdout",
     "output_type": "stream",
     "text": [
      "predicted: T\n"
     ]
    },
    {
     "data": {
      "image/png": "[encoded data removed]",
      "text/plain": [
       "<PIL.Image.Image image mode=RGB size=13x18 at 0x1802B821648>"
      ]
     },
     "metadata": {},
     "output_type": "display_data"
    },
    {
     "name": "stdout",
     "output_type": "stream",
     "text": [
      "predicted: Q\n"
     ]
    },
    {
     "data": {
      "image/png": "[encoded data removed]",
      "text/plain": [
       "<PIL.Image.Image image mode=RGB size=13x18 at 0x1802B821F88>"
      ]
     },
     "metadata": {},
     "output_type": "display_data"
    },
    {
     "name": "stdout",
     "output_type": "stream",
     "text": [
      "predicted: Q\n"
     ]
    },
    {
     "data": {
      "image/png": "[encoded data removed]",
      "text/plain": [
       "<PIL.Image.Image image mode=RGB size=13x18 at 0x1802B821348>"
      ]
     },
     "metadata": {},
     "output_type": "display_data"
    },
    {
     "name": "stdout",
     "output_type": "stream",
     "text": [
      "predicted: D\n"
     ]
    },
    {
     "data": {
      "image/png": "[encoded data removed]",
      "text/plain": [
       "<PIL.Image.Image image mode=RGB size=13x18 at 0x1802B821E08>"
      ]
     },
     "metadata": {},
     "output_type": "display_data"
    },
    {
     "name": "stdout",
     "output_type": "stream",
     "text": [
      "predicted: T\n"
     ]
    },
    {
     "data": {
      "image/png": "[encoded data removed]",
      "text/plain": [
       "<PIL.Image.Image image mode=RGB size=13x18 at 0x1802B831A08>"
      ]
     },
     "metadata": {},
     "output_type": "display_data"
    },
    {
     "name": "stdout",
     "output_type": "stream",
     "text": [
      "predicted: (\n"
     ]
    },
    {
     "data": {
      "image/png": "[encoded data removed]",
      "text/plain": [
       "<PIL.Image.Image image mode=RGB size=13x18 at 0x1802B769888>"
      ]
     },
     "metadata": {},
     "output_type": "display_data"
    },
    {
     "name": "stdout",
     "output_type": "stream",
     "text": [
      "predicted: $\n"
     ]
    },
    {
     "data": {
      "image/png": "[encoded data removed]",
      "text/plain": [
       "<PIL.Image.Image image mode=RGB size=13x18 at 0x1802B7697C8>"
      ]
     },
     "metadata": {},
     "output_type": "display_data"
    },
    {
     "name": "stdout",
     "output_type": "stream",
     "text": [
      "predicted: 1\n"
     ]
    },
    {
     "data": {
      "image/png": "[encoded data removed]",
      "text/plain": [
       "<PIL.Image.Image image mode=RGB size=13x18 at 0x1802B64F148>"
      ]
     },
     "metadata": {},
     "output_type": "display_data"
    },
    {
     "name": "stdout",
     "output_type": "stream",
     "text": [
      "predicted: i\n"
     ]
    },
    {
     "data": {
      "image/png": "[encoded data removed]",
      "text/plain": [
       "<PIL.Image.Image image mode=RGB size=13x18 at 0x1802B7FA808>"
      ]
     },
     "metadata": {},
     "output_type": "display_data"
    },
    {
     "name": "stdout",
     "output_type": "stream",
     "text": [
      "predicted: F\n"
     ]
    },
    {
     "data": {
      "image/png": "[encoded data removed]",
      "text/plain": [
       "<PIL.Image.Image image mode=RGB size=13x18 at 0x1802B7FA148>"
      ]
     },
     "metadata": {},
     "output_type": "display_data"
    },
    {
     "name": "stdout",
     "output_type": "stream",
     "text": [
      "predicted: 1\n"
     ]
    },
    {
     "data": {
      "image/png": "[encoded data removed]",
      "text/plain": [
       "<PIL.Image.Image image mode=RGB size=13x18 at 0x1802B7FA908>"
      ]
     },
     "metadata": {},
     "output_type": "display_data"
    },
    {
     "name": "stdout",
     "output_type": "stream",
     "text": [
      "predicted: r\n",
      "&DEW Y+X*XX!XJ|YUXZ ?[X? {XXMV<8?W[X { YkNIX!Z9W*{Y@ YXX&Z US   X  {J{8wDi(QU     TSUS3ii1RR TQQDT($1iF1r\n"
     ]
    }
   ],
   "source": [
    "myImg = Image.open('../Traing Data Preprocessing/Training Data/grid/sample_4.jpg').convert('RGB')\n",
    "\n",
    "imgs = SliceImage(myImg, 52, 44, 272, 48, 50, 183, 275, 184)\n",
    "\n",
    "text = DetectChars(imgs)\n",
    "\n",
    "print (text)"
   ]
  },
  {
   "cell_type": "code",
   "execution_count": 51,
   "metadata": {},
   "outputs": [
    {
     "data": {
      "image/png": "[encoded data removed]",
      "text/plain": [
       "<PIL.Image.Image image mode=RGB size=13x18 at 0x18001EB0AC8>"
      ]
     },
     "metadata": {},
     "output_type": "display_data"
    },
    {
     "name": "stdout",
     "output_type": "stream",
     "text": [
      "Z\n"
     ]
    }
   ],
   "source": [
    "testChar = Image.open('../Traing Data Preprocessing/Training Data/Testing/test_0.png').convert('RGB')\n",
    "c = PredictChar(testChar)\n",
    "print(c)"
   ]
  },
  {
   "cell_type": "code",
   "execution_count": null,
   "metadata": {},
   "outputs": [],
   "source": []
  }
 ],
 "metadata": {
  "kernelspec": {
   "display_name": "Python 3",
   "language": "python",
   "name": "python3"
  },
  "language_info": {
   "codemirror_mode": {
    "name": "ipython",
    "version": 3
   },
   "file_extension": ".py",
   "mimetype": "text/x-python",
   "name": "python",
   "nbconvert_exporter": "python",
   "pygments_lexer": "ipython3",
   "version": "3.7.4"
  }
 },
 "nbformat": 4,
 "nbformat_minor": 2
}
