{
  "cells": [
    {
      "cell_type": "markdown",
      "metadata": {
        "id": "view-in-github",
        "colab_type": "text"
      },
      "source": [
        "<a href=\"https://colab.research.google.com/github/TeeganKrieger/ChickenScratch/blob/main/src/Portenta%20H7/Grid%20Recognition%20Model.ipynb\" target=\"_parent\"><img src=\"https://colab.research.google.com/assets/colab-badge.svg\" alt=\"Open In Colab\"/></a>"
      ]
    },
    {
      "cell_type": "markdown",
      "metadata": {
        "id": "AZKNW3_60m0C"
      },
      "source": [
        "# Grid Recognition Model Training"
      ],
      "id": "AZKNW3_60m0C"
    },
    {
      "cell_type": "markdown",
      "metadata": {
        "id": "rFocK6EK0m0E"
      },
      "source": [
        "### Import all needed modules"
      ],
      "id": "rFocK6EK0m0E"
    },
    {
      "cell_type": "code",
      "source": [
        "from google.colab import drive\n",
        "drive.mount('/content/drive')"
      ],
      "metadata": {
        "id": "uGM0OG_T0qYN",
        "outputId": "7159b706-816e-4a0a-cfa8-6c315b10dc3d",
        "colab": {
          "base_uri": "https://localhost:8080/"
        }
      },
      "id": "uGM0OG_T0qYN",
      "execution_count": 1,
      "outputs": [
        {
          "output_type": "stream",
          "name": "stdout",
          "text": [
            "Mounted at /content/drive\n"
          ]
        }
      ]
    },
    {
      "cell_type": "code",
      "source": [
        "!pip install micromlgen"
      ],
      "metadata": {
        "id": "IuNUl35k0q7A",
        "outputId": "19d812bf-9830-49ef-f093-4adc635ca6d9",
        "colab": {
          "base_uri": "https://localhost:8080/"
        }
      },
      "id": "IuNUl35k0q7A",
      "execution_count": 2,
      "outputs": [
        {
          "output_type": "stream",
          "name": "stdout",
          "text": [
            "Collecting micromlgen\n",
            "  Downloading micromlgen-1.1.28.tar.gz (12 kB)\n",
            "Requirement already satisfied: jinja2 in /usr/local/lib/python3.7/dist-packages (from micromlgen) (2.11.3)\n",
            "Requirement already satisfied: MarkupSafe>=0.23 in /usr/local/lib/python3.7/dist-packages (from jinja2->micromlgen) (2.0.1)\n",
            "Building wheels for collected packages: micromlgen\n",
            "  Building wheel for micromlgen (setup.py) ... \u001b[?25l\u001b[?25hdone\n",
            "  Created wheel for micromlgen: filename=micromlgen-1.1.28-py3-none-any.whl size=32172 sha256=84ac8838834c4b9b7ad99fe75e58f8823a0b4b2917c60da2daebddc8efc79f08\n",
            "  Stored in directory: /root/.cache/pip/wheels/6f/98/43/0860b692737af546b9262a8b60ec3690c8bdc51c25e545ae09\n",
            "Successfully built micromlgen\n",
            "Installing collected packages: micromlgen\n",
            "Successfully installed micromlgen-1.1.28\n"
          ]
        }
      ]
    },
    {
      "cell_type": "code",
      "execution_count": 3,
      "metadata": {
        "id": "SWeercWh0m0F"
      },
      "outputs": [],
      "source": [
        "import numpy as np\n",
        "import random\n",
        "from keras.preprocessing.image import ImageDataGenerator, array_to_img, img_to_array, load_img\n",
        "import os\n",
        "from keras.models import Sequential\n",
        "from keras.layers import Conv2D, MaxPooling2D\n",
        "from keras.layers import Activation, Dropout, Flatten, Dense\n",
        "from sklearn import metrics\n",
        "from sklearn.metrics import confusion_matrix\n",
        "import json\n",
        "from types import SimpleNamespace\n",
        "import seaborn; seaborn.set()\n",
        "from keras.callbacks import EarlyStopping\n",
        "import tensorflow as tf\n",
        "\n",
        "MODELS_DIR = 'models/'\n",
        "MODEL_TF = MODELS_DIR + 'model'\n",
        "MODEL_TFLITE = MODELS_DIR + 'model.tflite'\n",
        "MODEL_TFLITE_MICRO = MODELS_DIR + 'model.cc'\n",
        "# TensorFlow is an open source machine learning library\n",
        "\n",
        "#from micromlgen import port"
      ],
      "id": "SWeercWh0m0F"
    },
    {
      "cell_type": "markdown",
      "metadata": {
        "id": "iitgce5n0m0G"
      },
      "source": [
        "## Building The Model"
      ],
      "id": "iitgce5n0m0G"
    },
    {
      "cell_type": "code",
      "execution_count": 4,
      "metadata": {
        "id": "_aH20tgU0m0H",
        "outputId": "9574ffcd-4486-4d54-fb42-4bc24b77bee3",
        "colab": {
          "base_uri": "https://localhost:8080/"
        }
      },
      "outputs": [
        {
          "output_type": "stream",
          "name": "stdout",
          "text": [
            "Model: \"sequential\"\n",
            "_________________________________________________________________\n",
            " Layer (type)                Output Shape              Param #   \n",
            "=================================================================\n",
            " conv2d (Conv2D)             (None, 238, 319, 8)       152       \n",
            "                                                                 \n",
            " conv2d_1 (Conv2D)           (None, 236, 318, 16)      784       \n",
            "                                                                 \n",
            " max_pooling2d (MaxPooling2D  (None, 118, 159, 16)     0         \n",
            " )                                                               \n",
            "                                                                 \n",
            " conv2d_2 (Conv2D)           (None, 116, 158, 16)      1552      \n",
            "                                                                 \n",
            " conv2d_3 (Conv2D)           (None, 114, 157, 8)       776       \n",
            "                                                                 \n",
            " max_pooling2d_1 (MaxPooling  (None, 57, 78, 8)        0         \n",
            " 2D)                                                             \n",
            "                                                                 \n",
            " dropout (Dropout)           (None, 57, 78, 8)         0         \n",
            "                                                                 \n",
            " flatten (Flatten)           (None, 35568)             0         \n",
            "                                                                 \n",
            " dense (Dense)               (None, 16)                569104    \n",
            "                                                                 \n",
            " dense_1 (Dense)             (None, 128)               2176      \n",
            "                                                                 \n",
            " dense_2 (Dense)             (None, 9)                 1161      \n",
            "                                                                 \n",
            "=================================================================\n",
            "Total params: 575,705\n",
            "Trainable params: 575,705\n",
            "Non-trainable params: 0\n",
            "_________________________________________________________________\n"
          ]
        }
      ],
      "source": [
        "model = Sequential()\n",
        "model.add(Conv2D(8, (3, 2), activation='relu', input_shape=(240, 320, 3)))\n",
        "model.add(Conv2D(16, (3, 2), activation='relu'))\n",
        "model.add(MaxPooling2D(pool_size=(2,2)))\n",
        "\n",
        "model.add(Conv2D(16, (3, 2), activation='relu'))\n",
        "model.add(Conv2D(8, (3, 2), activation='relu'))\n",
        "model.add(MaxPooling2D(pool_size=(2,2)))\n",
        "model.add(Dropout(0.5))\n",
        "\n",
        "model.add(Flatten())\n",
        "model.add(Dense(16, activation='relu'))\n",
        "model.add(Dense(128, activation='relu'))\n",
        "model.add(Dense(9, activation='linear'))\n",
        "\n",
        "model.compile(optimizer='adam', loss='mean_squared_error', metrics=['accuracy'])\n",
        "\n",
        "model.summary()"
      ],
      "id": "_aH20tgU0m0H"
    },
    {
      "cell_type": "markdown",
      "metadata": {
        "id": "sr9kYpAr0m0I"
      },
      "source": [
        "## Image and Config Loading"
      ],
      "id": "sr9kYpAr0m0I"
    },
    {
      "cell_type": "code",
      "execution_count": 5,
      "metadata": {
        "id": "V5BEWJfl0m0I"
      },
      "outputs": [],
      "source": [
        "#Loads an image and its cfg file\n",
        "def importImage(path, X, Y):\n",
        "    #Load the image\n",
        "    img = load_img(path)\n",
        "    arr = img_to_array(img)\n",
        "    \n",
        "    #Load the cfg\n",
        "    configFile = open(path[:-4] + '.cfg')\n",
        "    configRaw = configFile.read()\n",
        "    config = json.loads(configRaw, object_hook=lambda d: SimpleNamespace(**d)) \n",
        "    \n",
        "    cfgArr = [config.valid, config.x1, config.y1, config.x2, config.y2, config.x3, config.y3, config.x4, config.y4]\n",
        "    X.append(arr)\n",
        "    Y.append(cfgArr)\n",
        "    return X, Y"
      ],
      "id": "V5BEWJfl0m0I"
    },
    {
      "cell_type": "code",
      "execution_count": 6,
      "metadata": {
        "id": "5AhIkqLF0m0J"
      },
      "outputs": [],
      "source": [
        "def loadAllTrainingData(data_path):\n",
        "    X = []\n",
        "    Y = []\n",
        "    for root, dirs, files in os.walk(data_path, topdown=False):\n",
        "        for f in files:\n",
        "            if (f.endswith(\".jpg\")):\n",
        "                X, Y = importImage(os.path.join(root, f), X, Y)\n",
        "    return X, Y"
      ],
      "id": "5AhIkqLF0m0J"
    },
    {
      "cell_type": "markdown",
      "metadata": {
        "id": "-xZy4AlD0m0K"
      },
      "source": [
        "## Training Data Splitting"
      ],
      "id": "-xZy4AlD0m0K"
    },
    {
      "cell_type": "code",
      "execution_count": 7,
      "metadata": {
        "id": "_VPWoCTe0m0K"
      },
      "outputs": [],
      "source": [
        "def splitTrainingValidation(X, Y, split_size=0.2):\n",
        "    if len(X) == len(Y):\n",
        "        splitCount = int(len(X) * split_size)\n",
        "        \n",
        "        used_indices = []\n",
        "        \n",
        "        X_set = []\n",
        "        X_val = []\n",
        "        Y_set = []\n",
        "        Y_val = []\n",
        "        \n",
        "        while len(X_val) < splitCount:\n",
        "            index = random.randint(0, len(X)-1)\n",
        "            if index not in used_indices:\n",
        "                X_val.append(X[index])\n",
        "                Y_val.append(Y[index])\n",
        "                used_indices.append(index)\n",
        "        \n",
        "        for i in range(0, len(X)-1):\n",
        "            if i not in used_indices:\n",
        "                X_set.append(X[i])\n",
        "                Y_set.append(Y[i])\n",
        "                \n",
        "        return np.array(X_set), np.array(Y_set), np.array(X_val), np.array(Y_val)"
      ],
      "id": "_VPWoCTe0m0K"
    },
    {
      "cell_type": "markdown",
      "metadata": {
        "id": "4yVpoeVk0m0L"
      },
      "source": [
        "## Loading Training Data and Training"
      ],
      "id": "4yVpoeVk0m0L"
    },
    {
      "cell_type": "code",
      "execution_count": 8,
      "metadata": {
        "id": "X4BCySYD0m0L"
      },
      "outputs": [],
      "source": [
        "X, Y = loadAllTrainingData(\"/content/drive/MyDrive/Traing Data Preprocessing/Training Data/Grid\")\n",
        "X, Y, X_val, Y_val = splitTrainingValidation(X, Y, split_size=0.2)\n",
        "\n",
        "#print(X)\n",
        "#print(Y)\n",
        "#print(X_val.shape)\n",
        "#print(Y_val.shape)"
      ],
      "id": "X4BCySYD0m0L"
    },
    {
      "cell_type": "code",
      "execution_count": 9,
      "metadata": {
        "scrolled": false,
        "id": "D3Z_swxn0m0L",
        "outputId": "cb0ccdd9-4bf6-4d71-bf33-83b1a9121d0e",
        "colab": {
          "base_uri": "https://localhost:8080/"
        }
      },
      "outputs": [
        {
          "output_type": "stream",
          "name": "stdout",
          "text": [
            "Epoch 1/50\n",
            "11/11 [==============================] - 7s 562ms/step - loss: 16390.8457 - accuracy: 0.5349 - val_loss: 4895.5493 - val_accuracy: 0.3333\n",
            "Epoch 2/50\n",
            "11/11 [==============================] - 6s 537ms/step - loss: 3794.6367 - accuracy: 0.5000 - val_loss: 2649.6582 - val_accuracy: 0.5238\n",
            "Epoch 3/50\n",
            "11/11 [==============================] - 6s 529ms/step - loss: 3189.0894 - accuracy: 0.5116 - val_loss: 2225.7739 - val_accuracy: 0.3810\n",
            "Epoch 4/50\n",
            "11/11 [==============================] - 6s 536ms/step - loss: 2662.1304 - accuracy: 0.4651 - val_loss: 2322.4629 - val_accuracy: 0.4286\n",
            "Epoch 5/50\n",
            "11/11 [==============================] - 6s 537ms/step - loss: 2685.5403 - accuracy: 0.5698 - val_loss: 1768.8519 - val_accuracy: 0.5238\n",
            "Epoch 6/50\n",
            "11/11 [==============================] - 7s 609ms/step - loss: 2036.3933 - accuracy: 0.5930 - val_loss: 1509.2021 - val_accuracy: 0.4762\n",
            "Epoch 7/50\n",
            "11/11 [==============================] - 6s 584ms/step - loss: 1562.5034 - accuracy: 0.5349 - val_loss: 1211.0476 - val_accuracy: 0.4762\n",
            "Epoch 8/50\n",
            "11/11 [==============================] - 6s 534ms/step - loss: 1129.3306 - accuracy: 0.5814 - val_loss: 1055.2252 - val_accuracy: 0.4762\n",
            "Epoch 9/50\n",
            "11/11 [==============================] - 6s 535ms/step - loss: 790.6356 - accuracy: 0.5698 - val_loss: 1038.9777 - val_accuracy: 0.4762\n",
            "Epoch 10/50\n",
            "11/11 [==============================] - 6s 536ms/step - loss: 518.7025 - accuracy: 0.5814 - val_loss: 1139.4440 - val_accuracy: 0.4762\n",
            "Epoch 11/50\n",
            "11/11 [==============================] - 6s 544ms/step - loss: 583.1581 - accuracy: 0.5814 - val_loss: 1161.8564 - val_accuracy: 0.5238\n",
            "Epoch 12/50\n",
            "11/11 [==============================] - 6s 535ms/step - loss: 377.3609 - accuracy: 0.5814 - val_loss: 1174.9723 - val_accuracy: 0.4762\n",
            "Epoch 13/50\n",
            "11/11 [==============================] - 6s 533ms/step - loss: 334.9277 - accuracy: 0.6047 - val_loss: 1168.3188 - val_accuracy: 0.5238\n",
            "Epoch 14/50\n",
            "11/11 [==============================] - 6s 534ms/step - loss: 336.5230 - accuracy: 0.6163 - val_loss: 1152.8196 - val_accuracy: 0.5238\n",
            "Epoch 15/50\n",
            "11/11 [==============================] - 6s 536ms/step - loss: 315.5018 - accuracy: 0.6163 - val_loss: 1140.6016 - val_accuracy: 0.5238\n",
            "Epoch 16/50\n",
            "11/11 [==============================] - 6s 536ms/step - loss: 347.3315 - accuracy: 0.6512 - val_loss: 1076.3513 - val_accuracy: 0.5238\n",
            "Epoch 17/50\n",
            "11/11 [==============================] - 6s 535ms/step - loss: 345.7524 - accuracy: 0.6279 - val_loss: 1115.8462 - val_accuracy: 0.5238\n",
            "Epoch 18/50\n",
            "11/11 [==============================] - 6s 534ms/step - loss: 275.4019 - accuracy: 0.6512 - val_loss: 1104.5846 - val_accuracy: 0.5238\n",
            "Epoch 19/50\n",
            "11/11 [==============================] - 6s 536ms/step - loss: 260.5779 - accuracy: 0.6512 - val_loss: 1131.6208 - val_accuracy: 0.5238\n",
            "Epoch 20/50\n",
            "11/11 [==============================] - 6s 536ms/step - loss: 267.8065 - accuracy: 0.6860 - val_loss: 1065.9492 - val_accuracy: 0.5238\n",
            "Epoch 21/50\n",
            "11/11 [==============================] - 7s 684ms/step - loss: 209.4441 - accuracy: 0.6860 - val_loss: 1006.7001 - val_accuracy: 0.5238\n",
            "Epoch 22/50\n",
            "11/11 [==============================] - 6s 538ms/step - loss: 171.2746 - accuracy: 0.6977 - val_loss: 1011.2422 - val_accuracy: 0.5238\n",
            "Epoch 23/50\n",
            "11/11 [==============================] - 6s 533ms/step - loss: 165.3876 - accuracy: 0.7093 - val_loss: 1042.1592 - val_accuracy: 0.5238\n",
            "Epoch 24/50\n",
            "11/11 [==============================] - 6s 536ms/step - loss: 203.3790 - accuracy: 0.7209 - val_loss: 1061.4762 - val_accuracy: 0.6667\n",
            "Epoch 25/50\n",
            "11/11 [==============================] - 6s 537ms/step - loss: 194.7132 - accuracy: 0.7209 - val_loss: 927.6333 - val_accuracy: 0.6667\n",
            "Epoch 26/50\n",
            "11/11 [==============================] - 6s 537ms/step - loss: 170.6390 - accuracy: 0.7093 - val_loss: 997.7068 - val_accuracy: 0.5714\n",
            "Epoch 27/50\n",
            "11/11 [==============================] - 6s 535ms/step - loss: 173.5166 - accuracy: 0.7093 - val_loss: 905.0065 - val_accuracy: 0.6667\n",
            "Epoch 28/50\n",
            "11/11 [==============================] - 6s 533ms/step - loss: 173.8228 - accuracy: 0.7209 - val_loss: 946.4014 - val_accuracy: 0.6667\n",
            "Epoch 29/50\n",
            "11/11 [==============================] - 6s 534ms/step - loss: 155.3587 - accuracy: 0.7209 - val_loss: 1052.3810 - val_accuracy: 0.6667\n",
            "Epoch 30/50\n",
            "11/11 [==============================] - 6s 534ms/step - loss: 185.1149 - accuracy: 0.6977 - val_loss: 1016.5680 - val_accuracy: 0.6667\n",
            "Epoch 31/50\n",
            "11/11 [==============================] - 6s 535ms/step - loss: 138.1495 - accuracy: 0.7209 - val_loss: 993.9114 - val_accuracy: 0.6667\n",
            "Epoch 32/50\n",
            "11/11 [==============================] - 6s 538ms/step - loss: 170.0421 - accuracy: 0.7093 - val_loss: 1001.1429 - val_accuracy: 0.6667\n",
            "Epoch 33/50\n",
            "11/11 [==============================] - 6s 533ms/step - loss: 153.4905 - accuracy: 0.7209 - val_loss: 1158.8488 - val_accuracy: 0.6190\n",
            "Epoch 34/50\n",
            "11/11 [==============================] - 6s 534ms/step - loss: 224.9059 - accuracy: 0.7442 - val_loss: 1099.7565 - val_accuracy: 0.6190\n",
            "Epoch 35/50\n",
            "11/11 [==============================] - 6s 535ms/step - loss: 172.4839 - accuracy: 0.6977 - val_loss: 1101.6311 - val_accuracy: 0.6667\n",
            "Epoch 36/50\n",
            "11/11 [==============================] - 6s 535ms/step - loss: 207.9941 - accuracy: 0.7209 - val_loss: 973.4539 - val_accuracy: 0.7143\n",
            "Epoch 37/50\n",
            "11/11 [==============================] - 6s 545ms/step - loss: 141.0348 - accuracy: 0.8372 - val_loss: 1048.1864 - val_accuracy: 0.6190\n",
            "Epoch 38/50\n",
            "11/11 [==============================] - 6s 541ms/step - loss: 177.1759 - accuracy: 0.8023 - val_loss: 950.7474 - val_accuracy: 0.6667\n",
            "Epoch 39/50\n",
            "11/11 [==============================] - 6s 534ms/step - loss: 133.9556 - accuracy: 0.8372 - val_loss: 1011.2736 - val_accuracy: 0.4762\n",
            "Epoch 40/50\n",
            "11/11 [==============================] - 6s 536ms/step - loss: 132.0594 - accuracy: 0.7326 - val_loss: 1000.1179 - val_accuracy: 0.6667\n",
            "Epoch 41/50\n",
            "11/11 [==============================] - 6s 535ms/step - loss: 127.3046 - accuracy: 0.8605 - val_loss: 1018.1882 - val_accuracy: 0.6667\n",
            "Epoch 42/50\n",
            "11/11 [==============================] - 6s 538ms/step - loss: 139.0105 - accuracy: 0.8605 - val_loss: 1043.8616 - val_accuracy: 0.6667\n",
            "Epoch 43/50\n",
            "11/11 [==============================] - 6s 535ms/step - loss: 118.8811 - accuracy: 0.7907 - val_loss: 1026.5668 - val_accuracy: 0.6667\n",
            "Epoch 44/50\n",
            "11/11 [==============================] - 6s 536ms/step - loss: 131.3167 - accuracy: 0.7791 - val_loss: 1033.5194 - val_accuracy: 0.6667\n",
            "Epoch 45/50\n",
            "11/11 [==============================] - 6s 538ms/step - loss: 117.4408 - accuracy: 0.8023 - val_loss: 986.3221 - val_accuracy: 0.6667\n",
            "Epoch 46/50\n",
            "11/11 [==============================] - 6s 534ms/step - loss: 133.8160 - accuracy: 0.8721 - val_loss: 1048.3025 - val_accuracy: 0.6667\n",
            "Epoch 47/50\n",
            "11/11 [==============================] - 6s 545ms/step - loss: 153.7226 - accuracy: 0.8488 - val_loss: 1087.6760 - val_accuracy: 0.6667\n",
            "Epoch 48/50\n",
            "11/11 [==============================] - 6s 534ms/step - loss: 172.2326 - accuracy: 0.8372 - val_loss: 1036.4626 - val_accuracy: 0.6667\n",
            "Epoch 49/50\n",
            "11/11 [==============================] - 6s 543ms/step - loss: 154.2045 - accuracy: 0.8721 - val_loss: 1033.0046 - val_accuracy: 0.6667\n",
            "Epoch 50/50\n",
            "11/11 [==============================] - 6s 543ms/step - loss: 119.5401 - accuracy: 0.8488 - val_loss: 1116.5061 - val_accuracy: 0.6667\n"
          ]
        },
        {
          "output_type": "execute_result",
          "data": {
            "text/plain": [
              "<keras.callbacks.History at 0x7fb4201dadd0>"
            ]
          },
          "metadata": {},
          "execution_count": 9
        }
      ],
      "source": [
        "#es = EarlyStopping(monitor='val_accuracy', mode='max', min_delta=0.01)\n",
        "\n",
        "model.fit(X, Y, epochs=50, validation_data=(X_val, Y_val), batch_size=8)"
      ],
      "id": "D3Z_swxn0m0L"
    },
    {
      "cell_type": "markdown",
      "metadata": {
        "id": "Tn1rVoed0m0L"
      },
      "source": [
        "### Testing Random Images\n",
        "\n",
        "Try changing the sample number below"
      ],
      "id": "Tn1rVoed0m0L"
    },
    {
      "cell_type": "code",
      "execution_count": 10,
      "metadata": {
        "id": "l0yf2Olz0m0M",
        "outputId": "33058244-b46d-44a9-920a-f69f30795e8a",
        "colab": {
          "base_uri": "https://localhost:8080/"
        }
      },
      "outputs": [
        {
          "output_type": "stream",
          "name": "stdout",
          "text": [
            "[[2, 38, 48, 288, 36, 37, 202, 298, 193]]\n",
            "[[1, 41, 43, 284, 37, 45, 193, 291, 189]]\n"
          ]
        }
      ],
      "source": [
        "X_test = []\n",
        "Y_test = []\n",
        "X_test, Y_test = importImage(\"/content/drive/MyDrive/Traing Data Preprocessing/Training Data/Grid/sample_98.jpg\", X_test, Y_test)\n",
        "X_test = np.array(X_test)\n",
        "Y_predict = model.predict(X_test)\n",
        "Y_predict = [[round(Y_predict[0][0]), round(Y_predict[0][1]), round(Y_predict[0][2]), round(Y_predict[0][3]), round(Y_predict[0][4]), round(Y_predict[0][5]), round(Y_predict[0][6]), round(Y_predict[0][7]), round(Y_predict[0][8])]]\n",
        "print(Y_predict)\n",
        "print(Y_test)"
      ],
      "id": "l0yf2Olz0m0M"
    },
    {
      "cell_type": "code",
      "execution_count": 11,
      "metadata": {
        "id": "Pt8nj_WO0m0M",
        "outputId": "5168f351-31b4-4f3a-c6d7-0beaf8b32076",
        "colab": {
          "base_uri": "https://localhost:8080/"
        }
      },
      "outputs": [
        {
          "output_type": "stream",
          "name": "stdout",
          "text": [
            "INFO:tensorflow:Assets written to: models/model/assets\n"
          ]
        },
        {
          "output_type": "stream",
          "name": "stderr",
          "text": [
            "WARNING:absl:Buffer deduplication procedure will be skipped when flatbuffer library is not properly loaded\n"
          ]
        },
        {
          "output_type": "execute_result",
          "data": {
            "text/plain": [
              "582272"
            ]
          },
          "metadata": {},
          "execution_count": 11
        }
      ],
      "source": [
        "model.save(MODEL_TF)\n",
        "\n",
        "converter = tf.lite.TFLiteConverter.from_saved_model(MODEL_TF)\n",
        "converter.optimizations = [tf.lite.Optimize.DEFAULT]\n",
        "converter.allow_custom_ops = True\n",
        "\n",
        "\n",
        "def respresentative_dataset_gen():\n",
        "    img = tf.data.Dataset.from_tensor_slices(X).batch(1)\n",
        "    for i in img.take(30):\n",
        "        yield [i]\n",
        "        \n",
        "converter.representative_dataset = respresentative_dataset_gen\n",
        "\n",
        "converter.target_spec.supported_ops = [tf.lite.OpsSet.TFLITE_BUILTINS_INT8]\n",
        "converter.inference_input_type = tf.int8  # or tf.uint8\n",
        "converter.inference_output_type = tf.int8  # or tf.uint8\n",
        "\n",
        "\n",
        "model_tflite = converter.convert()\n",
        "\n",
        "# Save the model to disk\n",
        "open(MODEL_TFLITE, \"wb\").write(model_tflite)"
      ],
      "id": "Pt8nj_WO0m0M"
    },
    {
      "cell_type": "code",
      "execution_count": 12,
      "metadata": {
        "id": "9bGqzlM20m0M",
        "outputId": "2200ad38-3e69-4a52-dbe5-753d2e5d4713",
        "colab": {
          "base_uri": "https://localhost:8080/"
        }
      },
      "outputs": [
        {
          "output_type": "stream",
          "name": "stdout",
          "text": [
            "\r0% [Working]\r            \rHit:1 https://developer.download.nvidia.com/compute/cuda/repos/ubuntu1804/x86_64  InRelease\n",
            "\r0% [Connecting to archive.ubuntu.com] [Connecting to security.ubuntu.com (185.1\r0% [1 InRelease gpgv 1,575 B] [Connecting to archive.ubuntu.com] [Connecting to\r                                                                               \rGet:2 https://cloud.r-project.org/bin/linux/ubuntu bionic-cran40/ InRelease [3,626 B]\n",
            "\r0% [1 InRelease gpgv 1,575 B] [Connecting to archive.ubuntu.com] [Connecting to\r                                                                               \rIgn:3 https://developer.download.nvidia.com/compute/machine-learning/repos/ubuntu1804/x86_64  InRelease\n",
            "Hit:4 https://developer.download.nvidia.com/compute/machine-learning/repos/ubuntu1804/x86_64  Release\n",
            "Get:5 http://security.ubuntu.com/ubuntu bionic-security InRelease [88.7 kB]\n",
            "Get:6 http://ppa.launchpad.net/c2d4u.team/c2d4u4.0+/ubuntu bionic InRelease [15.9 kB]\n",
            "Hit:7 http://archive.ubuntu.com/ubuntu bionic InRelease\n",
            "Get:8 https://cloud.r-project.org/bin/linux/ubuntu bionic-cran40/ Packages [84.8 kB]\n",
            "Get:9 http://archive.ubuntu.com/ubuntu bionic-updates InRelease [88.7 kB]\n",
            "Hit:10 http://ppa.launchpad.net/cran/libgit2/ubuntu bionic InRelease\n",
            "Hit:12 http://ppa.launchpad.net/deadsnakes/ppa/ubuntu bionic InRelease\n",
            "Get:13 http://archive.ubuntu.com/ubuntu bionic-backports InRelease [74.6 kB]\n",
            "Hit:14 http://ppa.launchpad.net/graphics-drivers/ppa/ubuntu bionic InRelease\n",
            "Get:15 http://ppa.launchpad.net/c2d4u.team/c2d4u4.0+/ubuntu bionic/main Sources [1,953 kB]\n",
            "Get:16 http://security.ubuntu.com/ubuntu bionic-security/universe amd64 Packages [1,496 kB]\n",
            "Get:17 http://archive.ubuntu.com/ubuntu bionic-updates/universe amd64 Packages [2,272 kB]\n",
            "Get:18 http://security.ubuntu.com/ubuntu bionic-security/main amd64 Packages [2,733 kB]\n",
            "Get:19 http://ppa.launchpad.net/c2d4u.team/c2d4u4.0+/ubuntu bionic/main amd64 Packages [1,001 kB]\n",
            "Get:20 http://archive.ubuntu.com/ubuntu bionic-updates/main amd64 Packages [3,167 kB]\n",
            "Fetched 13.0 MB in 4s (3,511 kB/s)\n",
            "Reading package lists... Done\n",
            "Selecting previously unselected package xxd.\n",
            "(Reading database ... 155202 files and directories currently installed.)\n",
            "Preparing to unpack .../xxd_2%3a8.0.1453-1ubuntu1.8_amd64.deb ...\n",
            "Unpacking xxd (2:8.0.1453-1ubuntu1.8) ...\n",
            "Setting up xxd (2:8.0.1453-1ubuntu1.8) ...\n",
            "Processing triggers for man-db (2.8.3-2ubuntu0.1) ...\n"
          ]
        }
      ],
      "source": [
        "# Install xxd if it is not available\n",
        "!apt-get update && apt-get -qq install xxd\n",
        "# Convert to a C source file, i.e, a TensorFlow Lite for Microcontrollers model\n",
        "!xxd -i {MODEL_TFLITE} > {MODEL_TFLITE_MICRO}\n",
        "# Update variable names\n",
        "REPLACE_TEXT = MODEL_TFLITE.replace('/', '_').replace('.', '_')\n",
        "!sed -i 's/'{REPLACE_TEXT}'/g_model/g' {MODEL_TFLITE_MICRO}"
      ],
      "id": "9bGqzlM20m0M"
    }
  ],
  "metadata": {
    "kernelspec": {
      "display_name": "Python 3",
      "language": "python",
      "name": "python3"
    },
    "language_info": {
      "codemirror_mode": {
        "name": "ipython",
        "version": 3
      },
      "file_extension": ".py",
      "mimetype": "text/x-python",
      "name": "python",
      "nbconvert_exporter": "python",
      "pygments_lexer": "ipython3",
      "version": "3.7.4"
    },
    "colab": {
      "name": "Grid Recognition Model.ipynb",
      "provenance": [],
      "include_colab_link": true
    }
  },
  "nbformat": 4,
  "nbformat_minor": 5
}