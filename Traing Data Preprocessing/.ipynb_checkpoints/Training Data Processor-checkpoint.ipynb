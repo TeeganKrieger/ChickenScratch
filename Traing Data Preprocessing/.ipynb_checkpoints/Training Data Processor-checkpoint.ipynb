{
 "cells": [
  {
   "cell_type": "markdown",
   "metadata": {},
   "source": [
    "# ChickenScratch Training Data Processor"
   ]
  },
  {
   "cell_type": "markdown",
   "metadata": {},
   "source": [
    "The goal of the Training Data Processor is to ensure all of our training data is in the same format. That is, all samples must be a 13x18 grayscale png image. To achieve this, we have created a series of sample collection sheets like the one seen below that we will be handing out to people we know as well as the class in the hopes of collecting as much data as we can."
   ]
  },
  {
   "cell_type": "markdown",
   "metadata": {},
   "source": [
    "<img src=\"./Sample Sheets/Sample Sheet A-O.png\" />"
   ]
  },
  {
   "cell_type": "markdown",
   "metadata": {},
   "source": [
    "We will be using the Pillow Library for image manipulation."
   ]
  },
  {
   "cell_type": "code",
   "execution_count": 1,
   "metadata": {
    "scrolled": false
   },
   "outputs": [],
   "source": [
    "from PIL import Image, ImageDraw, ImageFilter, ImageEnhance\n",
    "import os\n",
    "import math\n",
    "import json\n",
    "from types import SimpleNamespace\n",
    "from os.path import exists\n",
    "import random\n",
    "import threading"
   ]
  },
  {
   "cell_type": "markdown",
   "metadata": {},
   "source": [
    "### Vector Math Functions"
   ]
  },
  {
   "cell_type": "code",
   "execution_count": 2,
   "metadata": {},
   "outputs": [],
   "source": [
    "# Subtract v2 from v1\n",
    "def sub(v1, v2):\n",
    "    return (v1[0] - v2[0], v1[1] - v2[1])\n",
    "\n",
    "# Distance between two vectors\n",
    "def distance(v1, v2):\n",
    "    return math.sqrt((v2[0] - v1[0]) * (v2[0] - v1[0]) + (v2[1] - v1[1]) * (v2[1] - v1[1]))\n",
    "\n",
    "#Normalizes a vector\n",
    "def vectorNormalize(v):\n",
    "    length = math.sqrt(v[0] * v[0] + v[1] * v[1])\n",
    "    return (v[0]/length, v[1]/length)\n",
    "\n",
    "#Generates a range of positions along a line traversed by an input vector\n",
    "def vectorRange(xy, v, count, dist):\n",
    "    vals = []\n",
    "    intv = int(dist/count + 0.5)\n",
    "    \n",
    "    if intv < 1:\n",
    "        intv = 1\n",
    "    \n",
    "    for i in range(0, dist, intv):\n",
    "        vals.append((xy[0] + v[0]*i, xy[1] + v[1]*i))\n",
    "    return vals"
   ]
  },
  {
   "cell_type": "markdown",
   "metadata": {},
   "source": [
    "### Debug Drawing Functions"
   ]
  },
  {
   "cell_type": "code",
   "execution_count": 3,
   "metadata": {},
   "outputs": [],
   "source": [
    "# Draw lines on the provided image showing bounds and cell bounds\n",
    "def drawConfigDebug(img, x1, y1, x2, y2, x3, y3, x4, y4, ccx, ccy, lt):\n",
    "    img1 = img.convert(mode=\"RGB\")\n",
    "    r = 8\n",
    "    draw = ImageDraw.Draw(img1)\n",
    "    \n",
    "    draw.ellipse((x1-r, y1-r, x1+r, y1+r), fill = 'red')\n",
    "    draw.ellipse((x2-r, y2-r, x2+r, y2+r), fill = 'red')\n",
    "    draw.ellipse((x3-r, y3-r, x3+r, y3+r), fill = 'red')\n",
    "    draw.ellipse((x4-r, y4-r, x4+r, y4+r), fill = 'red')\n",
    "    \n",
    "    v1 = vectorNormalize((x2-x1, y2-y1)) # Vector from top left to top right\n",
    "    v2 = vectorNormalize((x4-x3, y4-y3)) # Vector from bottom left to bottom right\n",
    "    v3 = vectorNormalize((x3-x1, y3-y1)) # Vector from top left to bottom left\n",
    "    v4 = vectorNormalize((x4-x2, y4-y2)) # Vector from top right to bottom right\n",
    "    \n",
    "    v1set = vectorRange((x1, y1), v1, ccx, int(distance((x1, y1), (x2, y2))))\n",
    "    v2set = vectorRange((x3, y3), v2, ccx, int(distance((x3, y3), (x4, y4))))\n",
    "    for i in range(0, ccx):\n",
    "        draw.line([v1set[i], v2set[i]], fill='green', width=2)\n",
    "        \n",
    "    v3set = vectorRange((x1, y1), v3, ccy, int(distance((x1, y1), (x3, y3))))\n",
    "    v4set = vectorRange((x2, y2), v4, ccy, int(distance((x2, y2), (x4, y4))))\n",
    "    for i in range(0, ccy):\n",
    "        draw.line([v3set[i], v4set[i]], fill='green', width=2)\n",
    "    \n",
    "    draw.line((x1, y1, x2, y2), fill='red', width=3)\n",
    "    draw.line((x2, y2, x4, y4), fill='red', width=2)\n",
    "    draw.line((x1, y1, x3, y3), fill='red', width=2)\n",
    "    draw.line((x3, y3, x4, y4), fill='red', width=2)\n",
    "    \n",
    "    return img1\n",
    "\n",
    "# Draw dots on the corners of each cell\n",
    "def drawCellsDebug(img, cells):\n",
    "    img1 = img.convert(mode=\"RGB\")\n",
    "    draw = ImageDraw.Draw(img1)\n",
    "    rad = 4\n",
    "    for i in range(0, len(cells)):\n",
    "        for j in range(0, len(cells[i])):\n",
    "            corners = cells[i][j]\n",
    "            for c in range(0, len(corners)):\n",
    "                draw.ellipse((corners[c][0]-rad, corners[c][1]-rad, corners[c][0]+rad, corners[c][1]+rad), fill = 'magenta')\n",
    "    \n",
    "    return img1"
   ]
  },
  {
   "cell_type": "markdown",
   "metadata": {},
   "source": [
    "## Image Configuration and Loading"
   ]
  },
  {
   "cell_type": "markdown",
   "metadata": {},
   "source": [
    "To make things easier for ourselves, we will be automatically cutting our sample collection sheets up. To begin, we will be scanning in the collection sheets using a printer scanner. This will hopefully keep the image size and orientation consistent as well as minimize issues that might arise from lense distortion when taking pictures with a traditional camera or phone.\n",
    "\n",
    "In the event that images do come in crooked or of different resolutions, each image will be able to specify a config file which will just be a json that includes some configuration properties such as the positions of each corner within the image, the number of cells in the image, etc..."
   ]
  },
  {
   "cell_type": "code",
   "execution_count": 4,
   "metadata": {},
   "outputs": [],
   "source": [
    "#Imports an image using PIL as well as its config file\n",
    "def importImage(path):\n",
    "    image = Image.open(path)\n",
    "    \n",
    "    configFile = open(path[:-4] + '.cfg')\n",
    "    \n",
    "    configRaw = configFile.read()\n",
    "    \n",
    "    config = json.loads(configRaw, object_hook=lambda d: SimpleNamespace(**d)) \n",
    "    \n",
    "    return image, config"
   ]
  },
  {
   "cell_type": "markdown",
   "metadata": {},
   "source": [
    "## Generating Cell Bounds"
   ]
  },
  {
   "cell_type": "markdown",
   "metadata": {},
   "source": [
    "Now that we have the image and configuration loaded, the next step is defining the bounds of the cells within the image. This is accomplished below. This processes isn't perfect and the bounds can get distorted slightly when the image is angled too much or if the image has lense distortion."
   ]
  },
  {
   "cell_type": "code",
   "execution_count": 5,
   "metadata": {},
   "outputs": [],
   "source": [
    "def generateCells(config):\n",
    "\n",
    "    cell_count_x = config.cell_count_x\n",
    "    cell_count_y = config.cell_count_y\n",
    "\n",
    "    x1, y1 = config.x1, config.y1 # Top Left Corner\n",
    "    x2, y2 = config.x2, config.y2 # Top Right Corner\n",
    "    x3, y3 = config.x3, config.y3 # Bottom Left Corner\n",
    "    x4, y4 = config.x4, config.y4 # Bottom Right Corner\n",
    "    \n",
    "    #Create Vectors\n",
    "    v3 = vectorNormalize((x3-x1, y3-y1)) # Vector from top left to bottom left\n",
    "    v4 = vectorNormalize((x4-x2, y4-y2)) # Vector from top right to bottom right\n",
    "\n",
    "    #Create Position Sets\n",
    "    v3set = vectorRange((x1, y1), v3, cell_count_y + 1, int(y3-y1+(y3-y1)/cell_count_y)) #Set of positions from top left to bottom left\n",
    "    v4set = vectorRange((x2, y2), v4, cell_count_y + 1, int(y4-y2+(y4-y2)/cell_count_y)) #Set of positions from top right to bottom right\n",
    "\n",
    "    cells = []\n",
    "    for y in range(0, cell_count_y):\n",
    "        row = []\n",
    "\n",
    "        v1 = vectorNormalize(sub(v4set[y], v3set[y]))\n",
    "        v2 = vectorNormalize(sub(v4set[y+1], v3set[y+1]))\n",
    "\n",
    "        d1 = distance(v3set[y], v4set[y])\n",
    "        d2 = distance(v3set[y+1], v4set[y+1])\n",
    "\n",
    "        v1set = vectorRange(v3set[y], v1, cell_count_x + 1, int(d1 + d1/cell_count_x))\n",
    "        v2set = vectorRange(v3set[y + 1], v2, cell_count_x + 1, int(d2 + d2/cell_count_x))\n",
    "\n",
    "        for x in range(0, cell_count_x):\n",
    "            row.append([v1set[x],v1set[x+1],v2set[x],v2set[x+1]])\n",
    "\n",
    "        cells.append(row)\n",
    "        \n",
    "    return cells\n",
    "    "
   ]
  },
  {
   "cell_type": "markdown",
   "metadata": {},
   "source": [
    "### Debugging the cell bounds"
   ]
  },
  {
   "cell_type": "markdown",
   "metadata": {},
   "source": [
    "Now we can check if our config works with our image using the handy debug functions written earlier. The function below just automates setting up the debug image and displaying it"
   ]
  },
  {
   "cell_type": "code",
   "execution_count": 6,
   "metadata": {},
   "outputs": [],
   "source": [
    "def debugCells(image, config, cells):\n",
    "    debugImg = drawConfigDebug(image, config.x1, config.y1, config.x2, config.y2, config.x3, config.y3, config.x4, config.y4, config.cell_count_x, config.cell_count_y, config.line_width)\n",
    "    debugImg = drawCellsDebug(debugImg, cells)\n",
    "    display(debugImg)"
   ]
  },
  {
   "cell_type": "markdown",
   "metadata": {},
   "source": [
    "## Cutting up the image using sampling"
   ]
  },
  {
   "cell_type": "code",
   "execution_count": 7,
   "metadata": {},
   "outputs": [],
   "source": [
    "def sampleCell(rawimage, config, cell):\n",
    "    width = config.cell_init_width\n",
    "    height = config.cell_init_height\n",
    "    \n",
    "    x1, y1 = cell[0][0], cell[0][1] # Top Left Corner\n",
    "    x2, y2 = cell[1][0], cell[1][1] # Top Right Corner\n",
    "    x3, y3 = cell[2][0], cell[2][1] # Bottom Left Corner\n",
    "    x4, y4 = cell[3][0], cell[3][1] # Bottom Right Corner\n",
    "    \n",
    "    cimg = Image.new(mode=\"RGB\", size=(width, height))\n",
    "    \n",
    "    #Create Vectors\n",
    "    v3 = vectorNormalize((x3-x1, y3-y1)) # Vector from top left to bottom left\n",
    "    v4 = vectorNormalize((x4-x2, y4-y2)) # Vector from top right to bottom right\n",
    "\n",
    "    #Create Position Sets\n",
    "    v3set = vectorRange((x1, y1), v3, height + 1, int(y3-y1+(y3-y1)/height)) #Set of positions from top left to bottom left\n",
    "    v4set = vectorRange((x2, y2), v4, height + 1, int(y4-y2+(y4-y2)/height)) #Set of positions from top right to bottom right\n",
    "    \n",
    "    for y in range(0, min(len(v3set), height)):\n",
    "        v1 = vectorNormalize(sub(v4set[y], v3set[y]))\n",
    "\n",
    "        d1 = distance(v3set[y], v4set[y])\n",
    "\n",
    "        v1set = vectorRange(v3set[y], v1, width + 1, int(d1 + d1/width))\n",
    "\n",
    "        for x in range(0, min(len(v1set),width)):\n",
    "            cimg.putpixel((x, y), rawimage[v1set[x][0],v1set[x][1]])\n",
    "\n",
    "    return cimg\n",
    "\n",
    "def cutCellImages(image, config, cells):\n",
    "    rawImage = image.load()\n",
    "    cellImages = []\n",
    "    \n",
    "    for x in range(0, len(cells)):\n",
    "        for y in range(0, len(cells[x])):\n",
    "            corners = cells[x][y]\n",
    "            timg = sampleCell(rawImage, config, corners)\n",
    "            cellImages.append(timg)\n",
    "    \n",
    "    return cellImages\n",
    "            "
   ]
  },
  {
   "cell_type": "markdown",
   "metadata": {},
   "source": [
    "## Image trimming (2 Techniques)"
   ]
  },
  {
   "cell_type": "markdown",
   "metadata": {},
   "source": [
    "Cells have the potential to display image artifacts in the form of the grid lines on our sample sheet. These artifacts diminish the utility of our samples, so to fix this, we need to remove the artifacts. Since the artifacts appear exclusively near the edges of each cell, we can take advantage of two edge trimming algorithms to fix this. The first resizes the image but keeps the resolution the same. Resulting in the letter being slightly larger and the artifacts being pushed out of the image bounds. The second technique draws white lines around the edges of the cell. If the lines are thick enough, they should overwrite the artifacts. If they are too thick, they can begin to trim the letters, which is not ideal."
   ]
  },
  {
   "cell_type": "code",
   "execution_count": 8,
   "metadata": {},
   "outputs": [],
   "source": [
    "# Trim edges by resizing the image in place. \n",
    "# I.E. image is resized by resolution doesn't change. \n",
    "# This trims edges by moving them out of the image bounds\n",
    "def trimImageResize(img, scale):\n",
    "    width, height = img.size\n",
    "    \n",
    "    left = int(scale * (width))\n",
    "    right = width - left\n",
    "    top = int(scale * (height))\n",
    "    bottom = height - top\n",
    "    \n",
    "    cropped = img.crop((left, top, right, bottom))\n",
    "    \n",
    "    resized = cropped.resize((width, height), resample=2)\n",
    "    \n",
    "    return resized\n",
    "    \n",
    "# Trim edges by drawing white lines around the edges of the image\n",
    "def trimImageEdgeReplacement(img, lineWidth):\n",
    "    width, height = img.size\n",
    "    topLeftCorner = (0, 0)\n",
    "    topRightCorner = (width-1, 0)\n",
    "    bottomLeftCorner = (0, height-1)\n",
    "    bottomRightCorner = (width-1, height-1)\n",
    "    \n",
    "    clone = img.convert(mode=\"RGB\")\n",
    "    draw = ImageDraw.Draw(clone)\n",
    "    draw.line([topLeftCorner,topRightCorner], fill='white', width=lineWidth)\n",
    "    draw.line([topLeftCorner,bottomLeftCorner], fill='white', width=lineWidth)\n",
    "    draw.line([topRightCorner,bottomRightCorner], fill='white', width=lineWidth)\n",
    "    draw.line([bottomLeftCorner,bottomRightCorner], fill='white', width=lineWidth)\n",
    "    \n",
    "    return clone\n",
    "    "
   ]
  },
  {
   "cell_type": "markdown",
   "metadata": {},
   "source": [
    "## Image Resizing"
   ]
  },
  {
   "cell_type": "markdown",
   "metadata": {},
   "source": [
    "Once the image has has been trimmed, the last step is to resize the image into a usable sample image. Our configuration file defines a target width and height used for resizing. It has also been observed that (especially in the case of thin lines), resizing the image in iterations, as opposed to jumping from one resolution to another, helps to maintain image quality."
   ]
  },
  {
   "cell_type": "code",
   "execution_count": 9,
   "metadata": {},
   "outputs": [],
   "source": [
    "# Resize an image to the desired target resolution over a number of iterations\n",
    "def resizeImage(img, config, iters):\n",
    "    width, height = img.size\n",
    "    target_width = config.target_width\n",
    "    target_height = config.target_height\n",
    "    \n",
    "    intv_width = int((width - target_width) / iters)\n",
    "    intv_height = int((height - target_height) / iters)\n",
    "    \n",
    "    width-=intv_width\n",
    "    height-=intv_height\n",
    "    \n",
    "    clone = img.convert(mode=\"RGB\")\n",
    "    for i in range(0, iters):\n",
    "        if i == iters-1:\n",
    "            clone = img.resize((target_width, target_height), resample=2)\n",
    "        else:\n",
    "            clone = img.resize((width, height), resample=2)\n",
    "        width-=intv_width\n",
    "        height-=intv_height\n",
    "        \n",
    "    return clone"
   ]
  },
  {
   "cell_type": "markdown",
   "metadata": {},
   "source": [
    "## Brightness Randomization"
   ]
  },
  {
   "cell_type": "code",
   "execution_count": 10,
   "metadata": {},
   "outputs": [],
   "source": [
    "def randomBrightness(img, minB, maxB):\n",
    "    raw = img.load()\n",
    "    clone = img.convert(mode=\"RGB\")\n",
    "    #enhancer = ImageEnhance.Brightness(clone)\n",
    "    width, height = img.size\n",
    "    b = random.uniform(minB, maxB)\n",
    "    \n",
    "    for x in range(0, width - 1):\n",
    "        for y in range(0, height - 1):\n",
    "            v = b + random.uniform(-0.02, 0.02)\n",
    "            pixel = raw[x,y]\n",
    "            pixel = (int(pixel[0] * v), int(pixel[1] * v), int(pixel[2] * v))\n",
    "            clone.putpixel((x, y), pixel)\n",
    "    #clone = enhancer.enhance(b)\n",
    "        \n",
    "    return clone"
   ]
  },
  {
   "cell_type": "markdown",
   "metadata": {},
   "source": [
    "## Image Saving"
   ]
  },
  {
   "cell_type": "markdown",
   "metadata": {},
   "source": []
  },
  {
   "cell_type": "code",
   "execution_count": 11,
   "metadata": {},
   "outputs": [],
   "source": [
    "specialChars = {\n",
    "    \"!\" : \"exclamation\",\n",
    "    \"@\" : \"at\",\n",
    "    \"#\" : \"pound\",\n",
    "    \"$\" : \"dollar\",\n",
    "    \"%\" : \"percent\",\n",
    "    \"^\" : \"caret\",\n",
    "    \"&\" : \"and\",\n",
    "    \"*\" : \"asterisk\",\n",
    "    \"(\" : \"openPar\",\n",
    "    \")\" : \"closePar\",\n",
    "    \"-\" : \"hyphen\",\n",
    "    \"_\" : \"underscore\",\n",
    "    \"+\" : \"plus\",\n",
    "    \"=\" : \"equals\",\n",
    "    \"{\" : \"openBrace\",\n",
    "    \"}\" : \"closeBrace\",\n",
    "    \"[\" : \"openSquare\",\n",
    "    \"]\" : \"closeSquare\",\n",
    "    \"|\" : \"pipe\",\n",
    "    \"\\\\\": \"backslash\",\n",
    "    \":\" : \"colon\",\n",
    "    \";\" : \"semicolon\",\n",
    "    \"\\\"\" : \"quote\",\n",
    "    \"'\" : \"apostrophe\",\n",
    "    \"<\" : \"openTriangle\",\n",
    "    \">\" : \"closeTriangle\",\n",
    "    \",\" : \"comma\",\n",
    "    \".\" : \"period\",\n",
    "    \"/\" : \"forwardSlash\",\n",
    "    \"?\" : \"question\",\n",
    "    \"~\" : \"tilde\",\n",
    "    \"`\" : \"grave\"\n",
    "}\n",
    "\n",
    "def getCharName(char):\n",
    "    if char.isupper():\n",
    "        return \"upper\" + char\n",
    "    elif char.islower():\n",
    "        return \"lower\" + char\n",
    "    elif char.isdigit():\n",
    "        return \"num\" + char\n",
    "    else:\n",
    "        return specialChars[char]\n",
    "\n",
    "saveLock = threading.Lock()\n",
    "    \n",
    "def saveImage(img, char):\n",
    "    charName = getCharName(char)\n",
    "    mostRecent = 0\n",
    "    fileName = charName + \"_\" + str(mostRecent) + \".png\"\n",
    "    path = os.path.join(os.getcwd(), 'Training Data/Processed/',  fileName)\n",
    "    \n",
    "    #lock.aquire()\n",
    "    while exists(path):\n",
    "        mostRecent+=1\n",
    "        fileName = charName + \"_\" + str(mostRecent) + \".png\"\n",
    "        path = os.path.join(os.getcwd(), 'Training Data/Processed/',  fileName)\n",
    "    #lock.release()\n",
    "    \n",
    "    img.save(path)\n",
    "    "
   ]
  },
  {
   "cell_type": "markdown",
   "metadata": {},
   "source": [
    "## Putting it all together"
   ]
  },
  {
   "cell_type": "code",
   "execution_count": 12,
   "metadata": {
    "scrolled": false
   },
   "outputs": [
    {
     "name": "stdout",
     "output_type": "stream",
     "text": [
      "Working on Raw1-9_01.jpg\n",
      "Working on Raw1-9_02.jpg\n",
      "Working on Raw1-9_03.jpg\n",
      "Working on Raw1-9_04.jpg\n",
      "Joining Threads\n",
      "Closed a thread\n",
      "Closed a thread\n",
      "Working on Raw1-9_05.jpg\n",
      "Working on Raw1-9_06.jpg\n",
      "Joining Threads\n",
      "Closed a thread\n",
      "Closed a thread\n",
      "Working on Raw1-9_07.jpg\n",
      "Working on Raw1-9_08.jpg\n",
      "Joining Threads\n",
      "Closed a thread\n",
      "Closed a thread\n",
      "Working on Raw1-9_09.jpg\n",
      "Working on Raw1-9_10.jpg\n",
      "Joining Threads\n",
      "Closed a thread\n",
      "Closed a thread\n",
      "Working on Raw1-9_11.jpg\n",
      "Working on Raw1-9_12.jpg\n",
      "Joining Threads\n",
      "Closed a thread\n",
      "Closed a thread\n",
      "Working on Raw1-9_13.jpg\n",
      "Working on Raw1-9_14.jpg\n",
      "Joining Threads\n",
      "Closed a thread\n",
      "Closed a thread\n",
      "Working on Raw1-9_15.jpg\n",
      "Working on Raw1-9_16.jpg\n",
      "Joining Threads\n",
      "Closed a thread\n",
      "Closed a thread\n",
      "Working on Raw1-9_17.jpg\n",
      "Working on Raw1-9_18.jpg\n",
      "Joining Threads\n",
      "Closed a thread\n",
      "Closed a thread\n",
      "Working on Raw1-9_19.jpg\n",
      "Working on RawA-O_01.jpg\n",
      "Joining Threads\n",
      "Closed a thread\n",
      "Closed a thread\n",
      "Working on RawA-O_02.jpg\n",
      "Working on RawA-O_03.jpg\n",
      "Joining Threads\n",
      "Closed a thread\n",
      "Closed a thread\n",
      "Working on RawA-O_04.jpg\n",
      "Working on RawA-O_05.jpg\n",
      "Joining Threads\n",
      "Closed a thread\n",
      "Closed a thread\n",
      "Working on RawA-O_06.jpg\n",
      "Working on RawA-O_07.jpg\n",
      "Joining Threads\n",
      "Closed a thread\n",
      "Closed a thread\n",
      "Working on RawA-O_08.jpg\n",
      "Working on RawA-O_09.jpg\n",
      "Joining Threads\n",
      "Closed a thread\n",
      "Closed a thread\n",
      "Working on RawA-O_10.jpg\n",
      "Working on RawA-O_11.jpg\n",
      "Joining Threads\n",
      "Closed a thread\n",
      "Closed a thread\n",
      "Working on RawA-O_12.jpg\n",
      "Working on RawA-O_13.jpg\n",
      "Joining Threads\n",
      "Closed a thread\n",
      "Closed a thread\n",
      "Working on RawA-O_14.jpg\n",
      "Working on RawA-O_15.jpg\n",
      "Joining Threads\n",
      "Closed a thread\n",
      "Closed a thread\n",
      "Working on RawA-O_16.jpg\n",
      "Working on RawA-O_17.jpg\n",
      "Joining Threads\n",
      "Closed a thread\n",
      "Closed a thread\n",
      "Working on RawA-O_18.jpg\n",
      "Working on RawA-O_19.jpg\n",
      "Joining Threads\n",
      "Closed a thread\n",
      "Closed a thread\n",
      "Working on RawP-Z_01.jpg\n",
      "Working on RawP-Z_02.jpg\n",
      "Joining Threads\n",
      "Closed a thread\n",
      "Closed a thread\n",
      "Working on RawP-Z_03.jpg\n",
      "Working on RawP-Z_04.jpg\n",
      "Joining Threads\n",
      "Closed a thread\n",
      "Closed a thread\n",
      "Working on RawP-Z_05.jpg\n",
      "Working on RawP-Z_06.jpg\n",
      "Joining Threads\n",
      "Closed a thread\n",
      "Closed a thread\n",
      "Working on RawP-Z_07.jpg\n",
      "Working on RawP-Z_08.jpg\n",
      "Joining Threads\n",
      "Closed a thread\n",
      "Closed a thread\n",
      "Working on RawP-Z_09.jpg\n",
      "Working on RawP-Z_10.jpg\n",
      "Joining Threads\n",
      "Closed a thread\n",
      "Closed a thread\n",
      "Working on RawP-Z_11.jpg\n",
      "Working on RawP-Z_12.jpg\n",
      "Joining Threads\n",
      "Closed a thread\n",
      "Closed a thread\n",
      "Working on RawP-Z_13.jpg\n",
      "Working on RawP-Z_14.jpg\n",
      "Joining Threads\n",
      "Closed a thread\n",
      "Closed a thread\n",
      "Working on RawP-Z_15.jpg\n",
      "Working on RawP-Z_16.jpg\n",
      "Joining Threads\n",
      "Closed a thread\n",
      "Closed a thread\n",
      "Working on RawP-Z_17.jpg\n",
      "Working on RawP-Z_18.jpg\n",
      "Joining Threads\n",
      "Closed a thread\n",
      "Closed a thread\n",
      "Working on RawP-Z_19.jpg\n"
     ]
    }
   ],
   "source": [
    "def cutOnThread(img, cfg):\n",
    "    cells = generateCells(cfg)\n",
    "\n",
    "    # debug configuration\n",
    "    #debugCells(img, cfg, cells)\n",
    "\n",
    "    # cut up the cells\n",
    "    cellImages = cutCellImages(img, cfg, cells)\n",
    "\n",
    "    # debug first three cells\n",
    "    #print(\"First three cells: \")\n",
    "    #display(cellImages[0])\n",
    "    #display(cellImages[1])\n",
    "    #display(cellImages[2])\n",
    "\n",
    "    charIndex = -1\n",
    "\n",
    "    # trim, resize and save all cells\n",
    "    for i in range(0, len(cellImages)):\n",
    "        #Skip predefined chars\n",
    "        if i % 7 == 0:\n",
    "            charIndex += 1\n",
    "            continue\n",
    "\n",
    "        #cellImages[i] = trimImageEdgeReplacement(cellImages[i], cfg.line_width * 2)\n",
    "        cellImages[i] = resizeImage(cellImages[i], cfg, cfg.resize_iters)\n",
    "        for j in range(10):\n",
    "            toSave = randomBrightness(cellImages[i], 0.4, 1.2)\n",
    "            saveImage(toSave, cfg.charSet[charIndex])\n",
    "\n",
    "threads = []\n",
    "    \n",
    "for root, dirs, files in os.walk(os.path.join(os.getcwd(), 'Training Data/Raw'), topdown=False):\n",
    "        for f in files:\n",
    "            if not f.endswith(\".jpg\"):\n",
    "                continue\n",
    "                \n",
    "            # import the image\n",
    "            img, cfg = importImage(os.path.join(root, f))\n",
    "\n",
    "            t = threading.Thread(target=cutOnThread, args=(img, cfg))\n",
    "            \n",
    "            threads.append(t)\n",
    "            print(\"Working on \" + f)\n",
    "            t.start()\n",
    "            \n",
    "            if len(threads) == 4:\n",
    "                print(\"Joining Threads\")\n",
    "                for t in threads:\n",
    "                    t.join()\n",
    "                    threads.remove(t)\n",
    "                    print (\"Closed a thread\")\n",
    "\n",
    "for i in range (0, 113):\n",
    "    space = Image.new(\"RGB\", (13, 18), (255, 255, 255))\n",
    "    for j in range(10):\n",
    "        space = randomBrightness(space, 0.4, 1.2)\n",
    "    filename = \"space_\" + str(i) + \".png\"\n",
    "    space.save(os.path.join(os.getcwd(), 'Training Data/Processed/',  filename))"
   ]
  },
  {
   "cell_type": "markdown",
   "metadata": {},
   "source": [
    "## Where are we at?"
   ]
  },
  {
   "cell_type": "markdown",
   "metadata": {},
   "source": [
    "The next steps are clear.\n",
    "First, we will be handing out our sampling sheets to as many people as we can. While people are filling these out, we will be improving the Data Processor.\n",
    "\n",
    "There is also the potential for augmentation of these images. Shifting the position of the letters in the boxes, changing brightness of the image and potentially doing a bit of shallow 3d projection in order to account for letters observed at different angles (since the end goal is to use the portenta camera for this)."
   ]
  },
  {
   "cell_type": "markdown",
   "metadata": {},
   "source": [
    "### Leftover code I'm hesitant to delete yet"
   ]
  },
  {
   "cell_type": "code",
   "execution_count": 13,
   "metadata": {
    "scrolled": false
   },
   "outputs": [
    {
     "ename": "NameError",
     "evalue": "name 'configTestImg' is not defined",
     "output_type": "error",
     "traceback": [
      "\u001b[1;31m---------------------------------------------------------------------------\u001b[0m",
      "\u001b[1;31mNameError\u001b[0m                                 Traceback (most recent call last)",
      "\u001b[1;32m<ipython-input-13-3deccbeb67c3>\u001b[0m in \u001b[0;36m<module>\u001b[1;34m\u001b[0m\n\u001b[0;32m     16\u001b[0m \u001b[1;33m\u001b[0m\u001b[0m\n\u001b[0;32m     17\u001b[0m \u001b[1;31m#Debug Config\u001b[0m\u001b[1;33m\u001b[0m\u001b[1;33m\u001b[0m\u001b[1;33m\u001b[0m\u001b[0m\n\u001b[1;32m---> 18\u001b[1;33m \u001b[0mdebugImg\u001b[0m \u001b[1;33m=\u001b[0m \u001b[0mdrawConfigDebug\u001b[0m\u001b[1;33m(\u001b[0m\u001b[0mconfigTestImg\u001b[0m\u001b[1;33m,\u001b[0m \u001b[0mx1\u001b[0m\u001b[1;33m,\u001b[0m \u001b[0my1\u001b[0m\u001b[1;33m,\u001b[0m \u001b[0mx2\u001b[0m\u001b[1;33m,\u001b[0m \u001b[0my2\u001b[0m\u001b[1;33m,\u001b[0m \u001b[0mx3\u001b[0m\u001b[1;33m,\u001b[0m \u001b[0my3\u001b[0m\u001b[1;33m,\u001b[0m \u001b[0mx4\u001b[0m\u001b[1;33m,\u001b[0m \u001b[0my4\u001b[0m\u001b[1;33m,\u001b[0m \u001b[0mcell_count_x\u001b[0m\u001b[1;33m,\u001b[0m \u001b[0mcell_count_y\u001b[0m\u001b[1;33m,\u001b[0m \u001b[0mline_width\u001b[0m\u001b[1;33m)\u001b[0m\u001b[1;33m\u001b[0m\u001b[1;33m\u001b[0m\u001b[0m\n\u001b[0m\u001b[0;32m     19\u001b[0m \u001b[0mdisplay\u001b[0m\u001b[1;33m(\u001b[0m\u001b[0mdebugImg\u001b[0m\u001b[1;33m)\u001b[0m\u001b[1;33m\u001b[0m\u001b[1;33m\u001b[0m\u001b[0m\n\u001b[0;32m     20\u001b[0m \u001b[1;33m\u001b[0m\u001b[0m\n",
      "\u001b[1;31mNameError\u001b[0m: name 'configTestImg' is not defined"
     ]
    }
   ],
   "source": [
    "cell_init_width = 44\n",
    "cell_init_height = 60\n",
    "\n",
    "cell_count_x = 14\n",
    "cell_count_y = 15\n",
    "\n",
    "target_width = 13\n",
    "target_height = 18\n",
    "\n",
    "x1, y1 = 84, 84 # Top Left Corner\n",
    "x2, y2 = 1292, 84 # Top Right Corner\n",
    "x3, y3 = 91, 1838 # Bottom Left Corner\n",
    "x4, y4 = 1292, 1822 # Bottom Right Corner\n",
    "\n",
    "line_width = 4\n",
    "\n",
    "#Debug Config\n",
    "debugImg = drawConfigDebug(configTestImg, x1, y1, x2, y2, x3, y3, x4, y4, cell_count_x, cell_count_y, line_width)\n",
    "display(debugImg)\n",
    "\n",
    "#Create Vectors\n",
    "v3 = vectorNormalize((x3-x1, y3-y1)) # Vector from top left to bottom left\n",
    "v4 = vectorNormalize((x4-x2, y4-y2)) # Vector from top right to bottom right\n",
    "\n",
    "#Create Position Sets\n",
    "v3set = vectorRange((x1, y1), v3, cell_count_y + 1, int(y3-y1+(y3-y1)/cell_count_y)) #Set of positions from top left to bottom left\n",
    "v4set = vectorRange((x2, y2), v4, cell_count_y + 1, int(y4-y2+(y4-y2)/cell_count_y)) #Set of positions from top right to bottom right\n",
    "\n",
    "cells = []\n",
    "for y in range(0, cell_count_y):\n",
    "    row = []\n",
    "    \n",
    "    v1 = vectorNormalize(sub(v4set[y], v3set[y]))\n",
    "    v2 = vectorNormalize(sub(v4set[y+1], v3set[y+1]))\n",
    "    \n",
    "    d1 = distance(v3set[y], v4set[y])\n",
    "    d2 = distance(v3set[y+1], v4set[y+1])\n",
    "    \n",
    "    v1set = vectorRange(v3set[y], v1, cell_count_x + 1, int(d1 + d1/cell_count_x))\n",
    "    v2set = vectorRange(v3set[y + 1], v2, cell_count_x + 1, int(d2 + d2/cell_count_x))\n",
    "    \n",
    "    for x in range(0, cell_count_x):\n",
    "        row.append([v1set[x],v1set[x+1],v2set[x],v2set[x+1]])\n",
    "        \n",
    "    cells.append(row)\n",
    "\n",
    "#Debug\n",
    "debugImg = drawConfigDebug(im, x1, y1, x2, y2, x3, y3, x4, y4, cell_count_x, cell_count_y, line_width)\n",
    "debugImg = drawCellsDebug(debugImg, cells)\n",
    "display(debugImg)"
   ]
  },
  {
   "cell_type": "code",
   "execution_count": null,
   "metadata": {},
   "outputs": [],
   "source": []
  },
  {
   "cell_type": "code",
   "execution_count": null,
   "metadata": {},
   "outputs": [],
   "source": []
  }
 ],
 "metadata": {
  "kernelspec": {
   "display_name": "Python 3",
   "language": "python",
   "name": "python3"
  },
  "language_info": {
   "codemirror_mode": {
    "name": "ipython",
    "version": 3
   },
   "file_extension": ".py",
   "mimetype": "text/x-python",
   "name": "python",
   "nbconvert_exporter": "python",
   "pygments_lexer": "ipython3",
   "version": "3.7.4"
  }
 },
 "nbformat": 4,
 "nbformat_minor": 2
}
